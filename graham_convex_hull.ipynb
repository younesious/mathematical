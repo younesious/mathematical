{
 "cells": [
  {
   "cell_type": "markdown",
   "id": "a669d3be",
   "metadata": {},
   "source": [
    "# Convex Hull using Graham Scan\n",
    "\n",
    "### Import necessary libraries"
   ]
  },
  {
   "cell_type": "code",
   "execution_count": 1,
   "id": "18f27dd7",
   "metadata": {},
   "outputs": [],
   "source": [
    "using Plots"
   ]
  },
  {
   "cell_type": "markdown",
   "id": "0db04a66",
   "metadata": {},
   "source": [
    "### Define a mutable struct for Point"
   ]
  },
  {
   "cell_type": "code",
   "execution_count": 2,
   "id": "a037b6c0",
   "metadata": {},
   "outputs": [],
   "source": [
    "mutable struct Point\n",
    "    x::Float64\n",
    "    y::Float64\n",
    "end"
   ]
  },
  {
   "cell_type": "markdown",
   "id": "692e109c",
   "metadata": {},
   "source": [
    "### Function to get the point next to the top in a stack"
   ]
  },
  {
   "cell_type": "code",
   "execution_count": 3,
   "id": "5013de9e",
   "metadata": {},
   "outputs": [
    {
     "data": {
      "text/plain": [
       "nextToTop (generic function with 1 method)"
      ]
     },
     "execution_count": 3,
     "metadata": {},
     "output_type": "execute_result"
    }
   ],
   "source": [
    "function nextToTop(S)\n",
    "    return S[end - 1]\n",
    "end"
   ]
  },
  {
   "cell_type": "markdown",
   "id": "f591ae8e",
   "metadata": {},
   "source": [
    "### Function to calculate squared Euclidean distance between two points"
   ]
  },
  {
   "cell_type": "code",
   "execution_count": 5,
   "id": "b342c730",
   "metadata": {},
   "outputs": [
    {
     "data": {
      "text/plain": [
       "distSq (generic function with 1 method)"
      ]
     },
     "execution_count": 5,
     "metadata": {},
     "output_type": "execute_result"
    }
   ],
   "source": [
    "function distSq(p1, p2)\n",
    "    return ((p1.x - p2.x) * (p1.x - p2.x) + (p1.y - p2.y) * (p1.y - p2.y))\n",
    "end"
   ]
  },
  {
   "cell_type": "markdown",
   "id": "e68bcef1",
   "metadata": {},
   "source": [
    "### Function to determine the orientation of three pointsFunction to determine the orientation of three points\n",
    "\n",
    "if collinear return 0, if clock wise return 1 and if counterclockwise return 2"
   ]
  },
  {
   "cell_type": "code",
   "execution_count": 6,
   "id": "e9660d52",
   "metadata": {},
   "outputs": [
    {
     "data": {
      "text/plain": [
       "orientation (generic function with 1 method)"
      ]
     },
     "execution_count": 6,
     "metadata": {},
     "output_type": "execute_result"
    }
   ],
   "source": [
    "function orientation(p, q, r)\n",
    "    val = ((q.y - p.y) * (r.x - q.x) - (q.x - p.x) * (r.y - q.y))\n",
    "    if val == 0\n",
    "        return 0  # collinear\n",
    "    elseif val > 0\n",
    "        return 1  # clock wise\n",
    "    else\n",
    "        return 2  # counterclockwise\n",
    "    end\n",
    "end"
   ]
  },
  {
   "cell_type": "markdown",
   "id": "59f19684",
   "metadata": {},
   "source": [
    "### Function to compare two points for sorting"
   ]
  },
  {
   "cell_type": "code",
   "execution_count": 24,
   "id": "6798c3e6",
   "metadata": {},
   "outputs": [
    {
     "data": {
      "text/plain": [
       "compare (generic function with 1 method)"
      ]
     },
     "execution_count": 24,
     "metadata": {},
     "output_type": "execute_result"
    }
   ],
   "source": [
    "function compare(p1, p2)\n",
    "    o = orientation(p0, p1, p2)\n",
    "\n",
    "    if o == 0\n",
    "        return distSq(p0, p2) >= distSq(p0, p1)\n",
    "    else\n",
    "        return o == 2\n",
    "    end\n",
    "end"
   ]
  },
  {
   "cell_type": "markdown",
   "id": "aa89e533",
   "metadata": {},
   "source": [
    "## Function to compute the convex hull of a set of points"
   ]
  },
  {
   "cell_type": "code",
   "execution_count": 25,
   "id": "5bb1b3b0",
   "metadata": {},
   "outputs": [
    {
     "data": {
      "text/plain": [
       "convexHull (generic function with 1 method)"
      ]
     },
     "execution_count": 25,
     "metadata": {},
     "output_type": "execute_result"
    }
   ],
   "source": [
    "function convexHull(points)\n",
    "    global p0\n",
    "    n = length(points)\n",
    "\n",
    "    # Find the point with the lowest y-coordinate\n",
    "    ymin = points[1].y\n",
    "    min_idx = 1\n",
    "    for i in 2:n\n",
    "        y = points[i].y\n",
    "        if y < ymin || (ymin == y && points[i].x < points[min_idx].x)\n",
    "            ymin = points[i].y\n",
    "            min_idx = i\n",
    "        end\n",
    "    end\n",
    "\n",
    "    # Swap the lowest point with the first point\n",
    "    points[1], points[min_idx] = points[min_idx], points[1]\n",
    "    p0 = points[1]\n",
    "\n",
    "    # Sort the remaining points in counterclockwise order around p0\n",
    "    points[2:end] = sort(points[2:end], lt=compare)\n",
    "    \n",
    "    # If two or more points have the same angle with p0, remove all but the farthest\n",
    "    m = 1\n",
    "    for i in 2:n\n",
    "        while i < n && orientation(p0, points[i], points[i + 1]) == 0\n",
    "            i += 1\n",
    "        end\n",
    "\n",
    "        points[m + 1] = points[i]\n",
    "        m += 1\n",
    "    end\n",
    "\n",
    "    # If there are less than 3 unique points, there is no convex hull\n",
    "    if m < 3\n",
    "        return Point[]\n",
    "    end\n",
    "\n",
    "    # Use a stack to keep track of the vertices of the convex hull\n",
    "    hull = [points[1], points[2], points[3]]\n",
    "    for i in 4:m\n",
    "        while length(hull) > 1 && orientation(nextToTop(hull), hull[end], points[i]) != 2\n",
    "            pop!(hull)\n",
    "        end\n",
    "\n",
    "        push!(hull, points[i])\n",
    "    end\n",
    "\n",
    "    return hull\n",
    "end"
   ]
  },
  {
   "cell_type": "markdown",
   "id": "365ec6ee",
   "metadata": {},
   "source": [
    "### Function to get user input for points"
   ]
  },
  {
   "cell_type": "code",
   "execution_count": 12,
   "id": "338695a3",
   "metadata": {},
   "outputs": [
    {
     "data": {
      "text/plain": [
       "get_user_input (generic function with 1 method)"
      ]
     },
     "execution_count": 12,
     "metadata": {},
     "output_type": "execute_result"
    }
   ],
   "source": [
    "function get_user_input()\n",
    "    print(\"Enter number of points: \")\n",
    "    n = parse(Int64, readline())\n",
    "    points = Point[]\n",
    "    \n",
    "    for i in 1:n\n",
    "        print(\"x[$i] = \")\n",
    "        x = parse(Float64, readline())\n",
    "        print(\"y[$i] = \")\n",
    "        y = parse(Float64, readline())\n",
    "        push!(points, Point(x, y))\n",
    "    end\n",
    "\n",
    "    return points\n",
    "end"
   ]
  },
  {
   "cell_type": "markdown",
   "id": "32ebd1a7",
   "metadata": {},
   "source": [
    "## Driver Code\n",
    "### Get user input for points"
   ]
  },
  {
   "cell_type": "code",
   "execution_count": 13,
   "id": "331dfdc1",
   "metadata": {},
   "outputs": [
    {
     "name": "stdout",
     "output_type": "stream",
     "text": [
      "Enter number of points: stdin> 8\n",
      "x[1] = stdin> 0\n",
      "y[1] = stdin> 3\n",
      "x[2] = stdin> 1\n",
      "y[2] = stdin> 1\n",
      "x[3] = stdin> 2\n",
      "y[3] = stdin> 2\n",
      "x[4] = stdin> 4\n",
      "y[4] = stdin> 4\n",
      "x[5] = stdin> 0\n",
      "y[5] = stdin> 0\n",
      "x[6] = stdin> 1\n",
      "y[6] = stdin> 2\n",
      "x[7] = stdin> 3\n",
      "y[7] = stdin> 1\n",
      "x[8] = stdin> 3\n",
      "y[8] = stdin> 3\n"
     ]
    },
    {
     "data": {
      "text/plain": [
       "8-element Vector{Point}:\n",
       " Point(0.0, 3.0)\n",
       " Point(1.0, 1.0)\n",
       " Point(2.0, 2.0)\n",
       " Point(4.0, 4.0)\n",
       " Point(0.0, 0.0)\n",
       " Point(1.0, 2.0)\n",
       " Point(3.0, 1.0)\n",
       " Point(3.0, 3.0)"
      ]
     },
     "execution_count": 13,
     "metadata": {},
     "output_type": "execute_result"
    }
   ],
   "source": [
    "input_points = get_user_input()"
   ]
  },
  {
   "cell_type": "markdown",
   "id": "02dea201",
   "metadata": {},
   "source": [
    "### Visualize the points"
   ]
  },
  {
   "cell_type": "code",
   "execution_count": 14,
   "id": "211e1f98",
   "metadata": {},
   "outputs": [
    {
     "data": {
      "image/png": "[encoded data removed]",
      "image/svg+xml": [
       "<?xml version=\"1.0\" encoding=\"utf-8\"?>\n",
       "<svg xmlns=\"http://www.w3.org/2000/svg\" xmlns:xlink=\"http://www.w3.org/1999/xlink\" width=\"600\" height=\"400\" viewBox=\"0 0 2400 1600\">\n",
       "<defs>\n",
       "  <clipPath id=\"clip500\">\n",
       "    <rect x=\"0\" y=\"0\" width=\"2400\" height=\"1600\"/>\n",
       "  </clipPath>\n",
       "</defs>\n",
       "<path clip-path=\"url(#clip500)\" d=\"M0 1600 L2400 1600 L2400 0 L0 0  Z\" fill=\"#ffffff\" fill-rule=\"evenodd\" fill-opacity=\"1\"/>\n",
       "<defs>\n",
       "  <clipPath id=\"clip501\">\n",
       "    <rect x=\"480\" y=\"0\" width=\"1681\" height=\"1600\"/>\n",
       "  </clipPath>\n",
       "</defs>\n",
       "<path clip-path=\"url(#clip500)\" d=\"M112.177 1486.45 L2352.76 1486.45 L2352.76 47.2441 L112.177 47.2441  Z\" fill=\"#ffffff\" fill-rule=\"evenodd\" fill-opacity=\"1\"/>\n",
       "<defs>\n",
       "  <clipPath id=\"clip502\">\n",
       "    <rect x=\"112\" y=\"47\" width=\"2242\" height=\"1440\"/>\n",
       "  </clipPath>\n",
       "</defs>\n",
       "<polyline clip-path=\"url(#clip502)\" style=\"stroke:#000000; stroke-linecap:round; stroke-linejoin:round; stroke-width:2; stroke-opacity:0.1; fill:none\" points=\"175.59,1486.45 175.59,47.2441 \"/>\n",
       "<polyline clip-path=\"url(#clip502)\" style=\"stroke:#000000; stroke-linecap:round; stroke-linejoin:round; stroke-width:2; stroke-opacity:0.1; fill:none\" points=\"704.028,1486.45 704.028,47.2441 \"/>\n",
       "<polyline clip-path=\"url(#clip502)\" style=\"stroke:#000000; stroke-linecap:round; stroke-linejoin:round; stroke-width:2; stroke-opacity:0.1; fill:none\" points=\"1232.47,1486.45 1232.47,47.2441 \"/>\n",
       "<polyline clip-path=\"url(#clip502)\" style=\"stroke:#000000; stroke-linecap:round; stroke-linejoin:round; stroke-width:2; stroke-opacity:0.1; fill:none\" points=\"1760.9,1486.45 1760.9,47.2441 \"/>\n",
       "<polyline clip-path=\"url(#clip502)\" style=\"stroke:#000000; stroke-linecap:round; stroke-linejoin:round; stroke-width:2; stroke-opacity:0.1; fill:none\" points=\"2289.34,1486.45 2289.34,47.2441 \"/>\n",
       "<polyline clip-path=\"url(#clip500)\" style=\"stroke:#000000; stroke-linecap:round; stroke-linejoin:round; stroke-width:4; stroke-opacity:1; fill:none\" points=\"112.177,1486.45 2352.76,1486.45 \"/>\n",
       "<polyline clip-path=\"url(#clip500)\" style=\"stroke:#000000; stroke-linecap:round; stroke-linejoin:round; stroke-width:4; stroke-opacity:1; fill:none\" points=\"175.59,1486.45 175.59,1467.55 \"/>\n",
       "<polyline clip-path=\"url(#clip500)\" style=\"stroke:#000000; stroke-linecap:round; stroke-linejoin:round; stroke-width:4; stroke-opacity:1; fill:none\" points=\"704.028,1486.45 704.028,1467.55 \"/>\n",
       "<polyline clip-path=\"url(#clip500)\" style=\"stroke:#000000; stroke-linecap:round; stroke-linejoin:round; stroke-width:4; stroke-opacity:1; fill:none\" points=\"1232.47,1486.45 1232.47,1467.55 \"/>\n",
       "<polyline clip-path=\"url(#clip500)\" style=\"stroke:#000000; stroke-linecap:round; stroke-linejoin:round; stroke-width:4; stroke-opacity:1; fill:none\" points=\"1760.9,1486.45 1760.9,1467.55 \"/>\n",
       "<polyline clip-path=\"url(#clip500)\" style=\"stroke:#000000; stroke-linecap:round; stroke-linejoin:round; stroke-width:4; stroke-opacity:1; fill:none\" points=\"2289.34,1486.45 2289.34,1467.55 \"/>\n",
       "<path clip-path=\"url(#clip500)\" d=\"M175.59 1517.37 Q171.979 1517.37 170.15 1520.93 Q168.344 1524.47 168.344 1531.6 Q168.344 1538.71 170.15 1542.27 Q171.979 1545.82 175.59 1545.82 Q179.224 1545.82 181.03 1542.27 Q182.858 1538.71 182.858 1531.6 Q182.858 1524.47 181.03 1520.93 Q179.224 1517.37 175.59 1517.37 M175.59 1513.66 Q181.4 1513.66 184.455 1518.27 Q187.534 1522.85 187.534 1531.6 Q187.534 1540.33 184.455 1544.94 Q181.4 1549.52 175.59 1549.52 Q169.78 1549.52 166.701 1544.94 Q163.645 1540.33 163.645 1531.6 Q163.645 1522.85 166.701 1518.27 Q169.78 1513.66 175.59 1513.66 Z\" fill=\"#000000\" fill-rule=\"nonzero\" fill-opacity=\"1\" /><path clip-path=\"url(#clip500)\" d=\"M694.41 1544.91 L702.049 1544.91 L702.049 1518.55 L693.739 1520.21 L693.739 1515.95 L702.003 1514.29 L706.679 1514.29 L706.679 1544.91 L714.317 1544.91 L714.317 1548.85 L694.41 1548.85 L694.41 1544.91 Z\" fill=\"#000000\" fill-rule=\"nonzero\" fill-opacity=\"1\" /><path clip-path=\"url(#clip500)\" d=\"M1227.12 1544.91 L1243.44 1544.91 L1243.44 1548.85 L1221.49 1548.85 L1221.49 1544.91 Q1224.16 1542.16 1228.74 1537.53 Q1233.35 1532.88 1234.53 1531.53 Q1236.77 1529.01 1237.65 1527.27 Q1238.55 1525.51 1238.55 1523.82 Q1238.55 1521.07 1236.61 1519.33 Q1234.69 1517.6 1231.59 1517.6 Q1229.39 1517.6 1226.93 1518.36 Q1224.5 1519.13 1221.73 1520.68 L1221.73 1515.95 Q1224.55 1514.82 1227 1514.24 Q1229.46 1513.66 1231.49 1513.66 Q1236.86 1513.66 1240.06 1516.35 Q1243.25 1519.03 1243.25 1523.52 Q1243.25 1525.65 1242.44 1527.57 Q1241.66 1529.47 1239.55 1532.07 Q1238.97 1532.74 1235.87 1535.95 Q1232.77 1539.15 1227.12 1544.91 Z\" fill=\"#000000\" fill-rule=\"nonzero\" fill-opacity=\"1\" /><path clip-path=\"url(#clip500)\" d=\"M1765.15 1530.21 Q1768.51 1530.93 1770.38 1533.2 Q1772.28 1535.47 1772.28 1538.8 Q1772.28 1543.92 1768.76 1546.72 Q1765.25 1549.52 1758.76 1549.52 Q1756.59 1549.52 1754.27 1549.08 Q1751.98 1548.66 1749.53 1547.81 L1749.53 1543.29 Q1751.47 1544.43 1753.79 1545.01 Q1756.1 1545.58 1758.62 1545.58 Q1763.02 1545.58 1765.31 1543.85 Q1767.63 1542.11 1767.63 1538.8 Q1767.63 1535.75 1765.48 1534.03 Q1763.35 1532.3 1759.53 1532.3 L1755.5 1532.3 L1755.5 1528.45 L1759.71 1528.45 Q1763.16 1528.45 1764.99 1527.09 Q1766.82 1525.7 1766.82 1523.11 Q1766.82 1520.45 1764.92 1519.03 Q1763.05 1517.6 1759.53 1517.6 Q1757.61 1517.6 1755.41 1518.01 Q1753.21 1518.43 1750.57 1519.31 L1750.57 1515.14 Q1753.23 1514.4 1755.55 1514.03 Q1757.88 1513.66 1759.94 1513.66 Q1765.27 1513.66 1768.37 1516.09 Q1771.47 1518.5 1771.47 1522.62 Q1771.47 1525.49 1769.83 1527.48 Q1768.18 1529.45 1765.15 1530.21 Z\" fill=\"#000000\" fill-rule=\"nonzero\" fill-opacity=\"1\" /><path clip-path=\"url(#clip500)\" d=\"M2292.35 1518.36 L2280.55 1536.81 L2292.35 1536.81 L2292.35 1518.36 M2291.13 1514.29 L2297.01 1514.29 L2297.01 1536.81 L2301.94 1536.81 L2301.94 1540.7 L2297.01 1540.7 L2297.01 1548.85 L2292.35 1548.85 L2292.35 1540.7 L2276.75 1540.7 L2276.75 1536.19 L2291.13 1514.29 Z\" fill=\"#000000\" fill-rule=\"nonzero\" fill-opacity=\"1\" /><polyline clip-path=\"url(#clip502)\" style=\"stroke:#000000; stroke-linecap:round; stroke-linejoin:round; stroke-width:2; stroke-opacity:0.1; fill:none\" points=\"112.177,1445.72 2352.76,1445.72 \"/>\n",
       "<polyline clip-path=\"url(#clip502)\" style=\"stroke:#000000; stroke-linecap:round; stroke-linejoin:round; stroke-width:2; stroke-opacity:0.1; fill:none\" points=\"112.177,1106.28 2352.76,1106.28 \"/>\n",
       "<polyline clip-path=\"url(#clip502)\" style=\"stroke:#000000; stroke-linecap:round; stroke-linejoin:round; stroke-width:2; stroke-opacity:0.1; fill:none\" points=\"112.177,766.846 2352.76,766.846 \"/>\n",
       "<polyline clip-path=\"url(#clip502)\" style=\"stroke:#000000; stroke-linecap:round; stroke-linejoin:round; stroke-width:2; stroke-opacity:0.1; fill:none\" points=\"112.177,427.411 2352.76,427.411 \"/>\n",
       "<polyline clip-path=\"url(#clip502)\" style=\"stroke:#000000; stroke-linecap:round; stroke-linejoin:round; stroke-width:2; stroke-opacity:0.1; fill:none\" points=\"112.177,87.9763 2352.76,87.9763 \"/>\n",
       "<polyline clip-path=\"url(#clip500)\" style=\"stroke:#000000; stroke-linecap:round; stroke-linejoin:round; stroke-width:4; stroke-opacity:1; fill:none\" points=\"112.177,1486.45 112.177,47.2441 \"/>\n",
       "<polyline clip-path=\"url(#clip500)\" style=\"stroke:#000000; stroke-linecap:round; stroke-linejoin:round; stroke-width:4; stroke-opacity:1; fill:none\" points=\"112.177,1445.72 131.075,1445.72 \"/>\n",
       "<polyline clip-path=\"url(#clip500)\" style=\"stroke:#000000; stroke-linecap:round; stroke-linejoin:round; stroke-width:4; stroke-opacity:1; fill:none\" points=\"112.177,1106.28 131.075,1106.28 \"/>\n",
       "<polyline clip-path=\"url(#clip500)\" style=\"stroke:#000000; stroke-linecap:round; stroke-linejoin:round; stroke-width:4; stroke-opacity:1; fill:none\" points=\"112.177,766.846 131.075,766.846 \"/>\n",
       "<polyline clip-path=\"url(#clip500)\" style=\"stroke:#000000; stroke-linecap:round; stroke-linejoin:round; stroke-width:4; stroke-opacity:1; fill:none\" points=\"112.177,427.411 131.075,427.411 \"/>\n",
       "<polyline clip-path=\"url(#clip500)\" style=\"stroke:#000000; stroke-linecap:round; stroke-linejoin:round; stroke-width:4; stroke-opacity:1; fill:none\" points=\"112.177,87.9763 131.075,87.9763 \"/>\n",
       "<path clip-path=\"url(#clip500)\" d=\"M64.2328 1431.51 Q60.6217 1431.51 58.793 1435.08 Q56.9875 1438.62 56.9875 1445.75 Q56.9875 1452.86 58.793 1456.42 Q60.6217 1459.96 64.2328 1459.96 Q67.867 1459.96 69.6726 1456.42 Q71.5013 1452.86 71.5013 1445.75 Q71.5013 1438.62 69.6726 1435.08 Q67.867 1431.51 64.2328 1431.51 M64.2328 1427.81 Q70.0429 1427.81 73.0985 1432.42 Q76.1772 1437 76.1772 1445.75 Q76.1772 1454.48 73.0985 1459.08 Q70.0429 1463.67 64.2328 1463.67 Q58.4226 1463.67 55.344 1459.08 Q52.2884 1454.48 52.2884 1445.75 Q52.2884 1437 55.344 1432.42 Q58.4226 1427.81 64.2328 1427.81 Z\" fill=\"#000000\" fill-rule=\"nonzero\" fill-opacity=\"1\" /><path clip-path=\"url(#clip500)\" d=\"M56.2699 1119.63 L63.9087 1119.63 L63.9087 1093.26 L55.5986 1094.93 L55.5986 1090.67 L63.8624 1089 L68.5383 1089 L68.5383 1119.63 L76.1772 1119.63 L76.1772 1123.56 L56.2699 1123.56 L56.2699 1119.63 Z\" fill=\"#000000\" fill-rule=\"nonzero\" fill-opacity=\"1\" /><path clip-path=\"url(#clip500)\" d=\"M59.8578 780.191 L76.1772 780.191 L76.1772 784.126 L54.2328 784.126 L54.2328 780.191 Q56.8949 777.436 61.4782 772.807 Q66.0846 768.154 67.2652 766.811 Q69.5105 764.288 70.3902 762.552 Q71.2929 760.793 71.2929 759.103 Q71.2929 756.348 69.3485 754.612 Q67.4272 752.876 64.3254 752.876 Q62.1263 752.876 59.6726 753.64 Q57.2421 754.404 54.4643 755.955 L54.4643 751.233 Q57.2884 750.098 59.7421 749.52 Q62.1958 748.941 64.2328 748.941 Q69.6031 748.941 72.7976 751.626 Q75.992 754.311 75.992 758.802 Q75.992 760.932 75.1818 762.853 Q74.3948 764.751 72.2883 767.344 Q71.7096 768.015 68.6078 771.233 Q65.5059 774.427 59.8578 780.191 Z\" fill=\"#000000\" fill-rule=\"nonzero\" fill-opacity=\"1\" /><path clip-path=\"url(#clip500)\" d=\"M69.0476 426.057 Q72.404 426.775 74.279 429.043 Q76.1772 431.312 76.1772 434.645 Q76.1772 439.761 72.6587 442.562 Q69.1402 445.362 62.6587 445.362 Q60.4828 445.362 58.168 444.923 Q55.8764 444.506 53.4227 443.649 L53.4227 439.136 Q55.3671 440.27 57.6819 440.849 Q59.9967 441.427 62.5198 441.427 Q66.918 441.427 69.2096 439.691 Q71.5244 437.955 71.5244 434.645 Q71.5244 431.589 69.3717 429.876 Q67.242 428.14 63.4226 428.14 L59.3949 428.14 L59.3949 424.298 L63.6078 424.298 Q67.0569 424.298 68.8855 422.932 Q70.7142 421.543 70.7142 418.951 Q70.7142 416.289 68.8161 414.876 Q66.9411 413.441 63.4226 413.441 Q61.5013 413.441 59.3023 413.858 Q57.1032 414.275 54.4643 415.154 L54.4643 410.988 Q57.1264 410.247 59.4412 409.877 Q61.7791 409.506 63.8393 409.506 Q69.1633 409.506 72.2652 411.937 Q75.367 414.344 75.367 418.464 Q75.367 421.335 73.7235 423.326 Q72.08 425.293 69.0476 426.057 Z\" fill=\"#000000\" fill-rule=\"nonzero\" fill-opacity=\"1\" /><path clip-path=\"url(#clip500)\" d=\"M66.5939 74.7703 L54.7884 93.2193 L66.5939 93.2193 L66.5939 74.7703 M65.367 70.6963 L71.2466 70.6963 L71.2466 93.2193 L76.1772 93.2193 L76.1772 97.1082 L71.2466 97.1082 L71.2466 105.256 L66.5939 105.256 L66.5939 97.1082 L50.9921 97.1082 L50.9921 92.5943 L65.367 70.6963 Z\" fill=\"#000000\" fill-rule=\"nonzero\" fill-opacity=\"1\" /><circle clip-path=\"url(#clip502)\" cx=\"175.59\" cy=\"427.411\" r=\"14.4\" fill=\"#0000ff\" fill-rule=\"evenodd\" fill-opacity=\"1\" stroke=\"#000000\" stroke-opacity=\"1\" stroke-width=\"3.2\"/>\n",
       "<circle clip-path=\"url(#clip502)\" cx=\"704.028\" cy=\"1106.28\" r=\"14.4\" fill=\"#0000ff\" fill-rule=\"evenodd\" fill-opacity=\"1\" stroke=\"#000000\" stroke-opacity=\"1\" stroke-width=\"3.2\"/>\n",
       "<circle clip-path=\"url(#clip502)\" cx=\"1232.47\" cy=\"766.846\" r=\"14.4\" fill=\"#0000ff\" fill-rule=\"evenodd\" fill-opacity=\"1\" stroke=\"#000000\" stroke-opacity=\"1\" stroke-width=\"3.2\"/>\n",
       "<circle clip-path=\"url(#clip502)\" cx=\"2289.34\" cy=\"87.9763\" r=\"14.4\" fill=\"#0000ff\" fill-rule=\"evenodd\" fill-opacity=\"1\" stroke=\"#000000\" stroke-opacity=\"1\" stroke-width=\"3.2\"/>\n",
       "<circle clip-path=\"url(#clip502)\" cx=\"175.59\" cy=\"1445.72\" r=\"14.4\" fill=\"#0000ff\" fill-rule=\"evenodd\" fill-opacity=\"1\" stroke=\"#000000\" stroke-opacity=\"1\" stroke-width=\"3.2\"/>\n",
       "<circle clip-path=\"url(#clip502)\" cx=\"704.028\" cy=\"766.846\" r=\"14.4\" fill=\"#0000ff\" fill-rule=\"evenodd\" fill-opacity=\"1\" stroke=\"#000000\" stroke-opacity=\"1\" stroke-width=\"3.2\"/>\n",
       "<circle clip-path=\"url(#clip502)\" cx=\"1760.9\" cy=\"1106.28\" r=\"14.4\" fill=\"#0000ff\" fill-rule=\"evenodd\" fill-opacity=\"1\" stroke=\"#000000\" stroke-opacity=\"1\" stroke-width=\"3.2\"/>\n",
       "<circle clip-path=\"url(#clip502)\" cx=\"1760.9\" cy=\"427.411\" r=\"14.4\" fill=\"#0000ff\" fill-rule=\"evenodd\" fill-opacity=\"1\" stroke=\"#000000\" stroke-opacity=\"1\" stroke-width=\"3.2\"/>\n",
       "<path clip-path=\"url(#clip500)\" d=\"M186.863 198.898 L546.36 198.898 L546.36 95.2176 L186.863 95.2176  Z\" fill=\"#ffffff\" fill-rule=\"evenodd\" fill-opacity=\"1\"/>\n",
       "<polyline clip-path=\"url(#clip500)\" style=\"stroke:#000000; stroke-linecap:round; stroke-linejoin:round; stroke-width:4; stroke-opacity:1; fill:none\" points=\"186.863,198.898 546.36,198.898 546.36,95.2176 186.863,95.2176 186.863,198.898 \"/>\n",
       "<circle clip-path=\"url(#clip500)\" cx=\"286.444\" cy=\"147.058\" r=\"20.48\" fill=\"#0000ff\" fill-rule=\"evenodd\" fill-opacity=\"1\" stroke=\"#000000\" stroke-opacity=\"1\" stroke-width=\"4.55111\"/>\n",
       "<path clip-path=\"url(#clip500)\" d=\"M390.702 133.62 L390.702 146.606 L396.581 146.606 Q399.845 146.606 401.627 144.916 Q403.41 143.227 403.41 140.102 Q403.41 137 401.627 135.31 Q399.845 133.62 396.581 133.62 L390.702 133.62 M386.026 129.778 L396.581 129.778 Q402.391 129.778 405.354 132.416 Q408.34 135.032 408.34 140.102 Q408.34 145.217 405.354 147.833 Q402.391 150.449 396.581 150.449 L390.702 150.449 L390.702 164.338 L386.026 164.338 L386.026 129.778 Z\" fill=\"#000000\" fill-rule=\"nonzero\" fill-opacity=\"1\" /><path clip-path=\"url(#clip500)\" d=\"M422.785 141.398 Q419.359 141.398 417.368 144.083 Q415.377 146.745 415.377 151.398 Q415.377 156.051 417.345 158.736 Q419.336 161.398 422.785 161.398 Q426.188 161.398 428.178 158.713 Q430.169 156.027 430.169 151.398 Q430.169 146.791 428.178 144.106 Q426.188 141.398 422.785 141.398 M422.785 137.787 Q428.34 137.787 431.512 141.398 Q434.683 145.009 434.683 151.398 Q434.683 157.764 431.512 161.398 Q428.34 165.009 422.785 165.009 Q417.206 165.009 414.035 161.398 Q410.887 157.764 410.887 151.398 Q410.887 145.009 414.035 141.398 Q417.206 137.787 422.785 137.787 Z\" fill=\"#000000\" fill-rule=\"nonzero\" fill-opacity=\"1\" /><path clip-path=\"url(#clip500)\" d=\"M441.743 138.412 L446.002 138.412 L446.002 164.338 L441.743 164.338 L441.743 138.412 M441.743 128.319 L446.002 128.319 L446.002 133.713 L441.743 133.713 L441.743 128.319 Z\" fill=\"#000000\" fill-rule=\"nonzero\" fill-opacity=\"1\" /><path clip-path=\"url(#clip500)\" d=\"M476.465 148.689 L476.465 164.338 L472.206 164.338 L472.206 148.828 Q472.206 145.148 470.771 143.319 Q469.335 141.49 466.465 141.49 Q463.016 141.49 461.025 143.69 Q459.035 145.889 459.035 149.685 L459.035 164.338 L454.752 164.338 L454.752 138.412 L459.035 138.412 L459.035 142.44 Q460.562 140.102 462.622 138.944 Q464.706 137.787 467.414 137.787 Q471.882 137.787 474.173 140.565 Q476.465 143.319 476.465 148.689 Z\" fill=\"#000000\" fill-rule=\"nonzero\" fill-opacity=\"1\" /><path clip-path=\"url(#clip500)\" d=\"M489.173 131.051 L489.173 138.412 L497.946 138.412 L497.946 141.722 L489.173 141.722 L489.173 155.796 Q489.173 158.967 490.03 159.87 Q490.909 160.773 493.571 160.773 L497.946 160.773 L497.946 164.338 L493.571 164.338 Q488.641 164.338 486.766 162.509 Q484.891 160.657 484.891 155.796 L484.891 141.722 L481.766 141.722 L481.766 138.412 L484.891 138.412 L484.891 131.051 L489.173 131.051 Z\" fill=\"#000000\" fill-rule=\"nonzero\" fill-opacity=\"1\" /><path clip-path=\"url(#clip500)\" d=\"M520.076 139.176 L520.076 143.203 Q518.27 142.277 516.326 141.815 Q514.381 141.352 512.298 141.352 Q509.127 141.352 507.53 142.324 Q505.956 143.296 505.956 145.24 Q505.956 146.722 507.09 147.578 Q508.224 148.412 511.65 149.176 L513.108 149.5 Q517.645 150.472 519.543 152.254 Q521.465 154.014 521.465 157.185 Q521.465 160.796 518.594 162.902 Q515.747 165.009 510.747 165.009 Q508.664 165.009 506.395 164.592 Q504.15 164.199 501.65 163.388 L501.65 158.99 Q504.011 160.217 506.303 160.842 Q508.594 161.444 510.84 161.444 Q513.849 161.444 515.469 160.426 Q517.09 159.384 517.09 157.509 Q517.09 155.773 515.909 154.847 Q514.752 153.921 510.794 153.064 L509.312 152.717 Q505.354 151.884 503.595 150.171 Q501.835 148.435 501.835 145.426 Q501.835 141.768 504.428 139.778 Q507.02 137.787 511.789 137.787 Q514.15 137.787 516.233 138.134 Q518.317 138.481 520.076 139.176 Z\" fill=\"#000000\" fill-rule=\"nonzero\" fill-opacity=\"1\" /></svg>\n"
      ],
      "text/html": [
       "<?xml version=\"1.0\" encoding=\"utf-8\"?>\n",
       "<svg xmlns=\"http://www.w3.org/2000/svg\" xmlns:xlink=\"http://www.w3.org/1999/xlink\" width=\"600\" height=\"400\" viewBox=\"0 0 2400 1600\">\n",
       "<defs>\n",
       "  <clipPath id=\"clip550\">\n",
       "    <rect x=\"0\" y=\"0\" width=\"2400\" height=\"1600\"/>\n",
       "  </clipPath>\n",
       "</defs>\n",
       "<path clip-path=\"url(#clip550)\" d=\"M0 1600 L2400 1600 L2400 0 L0 0  Z\" fill=\"#ffffff\" fill-rule=\"evenodd\" fill-opacity=\"1\"/>\n",
       "<defs>\n",
       "  <clipPath id=\"clip551\">\n",
       "    <rect x=\"480\" y=\"0\" width=\"1681\" height=\"1600\"/>\n",
       "  </clipPath>\n",
       "</defs>\n",
       "<path clip-path=\"url(#clip550)\" d=\"M112.177 1486.45 L2352.76 1486.45 L2352.76 47.2441 L112.177 47.2441  Z\" fill=\"#ffffff\" fill-rule=\"evenodd\" fill-opacity=\"1\"/>\n",
       "<defs>\n",
       "  <clipPath id=\"clip552\">\n",
       "    <rect x=\"112\" y=\"47\" width=\"2242\" height=\"1440\"/>\n",
       "  </clipPath>\n",
       "</defs>\n",
       "<polyline clip-path=\"url(#clip552)\" style=\"stroke:#000000; stroke-linecap:round; stroke-linejoin:round; stroke-width:2; stroke-opacity:0.1; fill:none\" points=\"175.59,1486.45 175.59,47.2441 \"/>\n",
       "<polyline clip-path=\"url(#clip552)\" style=\"stroke:#000000; stroke-linecap:round; stroke-linejoin:round; stroke-width:2; stroke-opacity:0.1; fill:none\" points=\"704.028,1486.45 704.028,47.2441 \"/>\n",
       "<polyline clip-path=\"url(#clip552)\" style=\"stroke:#000000; stroke-linecap:round; stroke-linejoin:round; stroke-width:2; stroke-opacity:0.1; fill:none\" points=\"1232.47,1486.45 1232.47,47.2441 \"/>\n",
       "<polyline clip-path=\"url(#clip552)\" style=\"stroke:#000000; stroke-linecap:round; stroke-linejoin:round; stroke-width:2; stroke-opacity:0.1; fill:none\" points=\"1760.9,1486.45 1760.9,47.2441 \"/>\n",
       "<polyline clip-path=\"url(#clip552)\" style=\"stroke:#000000; stroke-linecap:round; stroke-linejoin:round; stroke-width:2; stroke-opacity:0.1; fill:none\" points=\"2289.34,1486.45 2289.34,47.2441 \"/>\n",
       "<polyline clip-path=\"url(#clip550)\" style=\"stroke:#000000; stroke-linecap:round; stroke-linejoin:round; stroke-width:4; stroke-opacity:1; fill:none\" points=\"112.177,1486.45 2352.76,1486.45 \"/>\n",
       "<polyline clip-path=\"url(#clip550)\" style=\"stroke:#000000; stroke-linecap:round; stroke-linejoin:round; stroke-width:4; stroke-opacity:1; fill:none\" points=\"175.59,1486.45 175.59,1467.55 \"/>\n",
       "<polyline clip-path=\"url(#clip550)\" style=\"stroke:#000000; stroke-linecap:round; stroke-linejoin:round; stroke-width:4; stroke-opacity:1; fill:none\" points=\"704.028,1486.45 704.028,1467.55 \"/>\n",
       "<polyline clip-path=\"url(#clip550)\" style=\"stroke:#000000; stroke-linecap:round; stroke-linejoin:round; stroke-width:4; stroke-opacity:1; fill:none\" points=\"1232.47,1486.45 1232.47,1467.55 \"/>\n",
       "<polyline clip-path=\"url(#clip550)\" style=\"stroke:#000000; stroke-linecap:round; stroke-linejoin:round; stroke-width:4; stroke-opacity:1; fill:none\" points=\"1760.9,1486.45 1760.9,1467.55 \"/>\n",
       "<polyline clip-path=\"url(#clip550)\" style=\"stroke:#000000; stroke-linecap:round; stroke-linejoin:round; stroke-width:4; stroke-opacity:1; fill:none\" points=\"2289.34,1486.45 2289.34,1467.55 \"/>\n",
       "<path clip-path=\"url(#clip550)\" d=\"M175.59 1517.37 Q171.979 1517.37 170.15 1520.93 Q168.344 1524.47 168.344 1531.6 Q168.344 1538.71 170.15 1542.27 Q171.979 1545.82 175.59 1545.82 Q179.224 1545.82 181.03 1542.27 Q182.858 1538.71 182.858 1531.6 Q182.858 1524.47 181.03 1520.93 Q179.224 1517.37 175.59 1517.37 M175.59 1513.66 Q181.4 1513.66 184.455 1518.27 Q187.534 1522.85 187.534 1531.6 Q187.534 1540.33 184.455 1544.94 Q181.4 1549.52 175.59 1549.52 Q169.78 1549.52 166.701 1544.94 Q163.645 1540.33 163.645 1531.6 Q163.645 1522.85 166.701 1518.27 Q169.78 1513.66 175.59 1513.66 Z\" fill=\"#000000\" fill-rule=\"nonzero\" fill-opacity=\"1\" /><path clip-path=\"url(#clip550)\" d=\"M694.41 1544.91 L702.049 1544.91 L702.049 1518.55 L693.739 1520.21 L693.739 1515.95 L702.003 1514.29 L706.679 1514.29 L706.679 1544.91 L714.317 1544.91 L714.317 1548.85 L694.41 1548.85 L694.41 1544.91 Z\" fill=\"#000000\" fill-rule=\"nonzero\" fill-opacity=\"1\" /><path clip-path=\"url(#clip550)\" d=\"M1227.12 1544.91 L1243.44 1544.91 L1243.44 1548.85 L1221.49 1548.85 L1221.49 1544.91 Q1224.16 1542.16 1228.74 1537.53 Q1233.35 1532.88 1234.53 1531.53 Q1236.77 1529.01 1237.65 1527.27 Q1238.55 1525.51 1238.55 1523.82 Q1238.55 1521.07 1236.61 1519.33 Q1234.69 1517.6 1231.59 1517.6 Q1229.39 1517.6 1226.93 1518.36 Q1224.5 1519.13 1221.73 1520.68 L1221.73 1515.95 Q1224.55 1514.82 1227 1514.24 Q1229.46 1513.66 1231.49 1513.66 Q1236.86 1513.66 1240.06 1516.35 Q1243.25 1519.03 1243.25 1523.52 Q1243.25 1525.65 1242.44 1527.57 Q1241.66 1529.47 1239.55 1532.07 Q1238.97 1532.74 1235.87 1535.95 Q1232.77 1539.15 1227.12 1544.91 Z\" fill=\"#000000\" fill-rule=\"nonzero\" fill-opacity=\"1\" /><path clip-path=\"url(#clip550)\" d=\"M1765.15 1530.21 Q1768.51 1530.93 1770.38 1533.2 Q1772.28 1535.47 1772.28 1538.8 Q1772.28 1543.92 1768.76 1546.72 Q1765.25 1549.52 1758.76 1549.52 Q1756.59 1549.52 1754.27 1549.08 Q1751.98 1548.66 1749.53 1547.81 L1749.53 1543.29 Q1751.47 1544.43 1753.79 1545.01 Q1756.1 1545.58 1758.62 1545.58 Q1763.02 1545.58 1765.31 1543.85 Q1767.63 1542.11 1767.63 1538.8 Q1767.63 1535.75 1765.48 1534.03 Q1763.35 1532.3 1759.53 1532.3 L1755.5 1532.3 L1755.5 1528.45 L1759.71 1528.45 Q1763.16 1528.45 1764.99 1527.09 Q1766.82 1525.7 1766.82 1523.11 Q1766.82 1520.45 1764.92 1519.03 Q1763.05 1517.6 1759.53 1517.6 Q1757.61 1517.6 1755.41 1518.01 Q1753.21 1518.43 1750.57 1519.31 L1750.57 1515.14 Q1753.23 1514.4 1755.55 1514.03 Q1757.88 1513.66 1759.94 1513.66 Q1765.27 1513.66 1768.37 1516.09 Q1771.47 1518.5 1771.47 1522.62 Q1771.47 1525.49 1769.83 1527.48 Q1768.18 1529.45 1765.15 1530.21 Z\" fill=\"#000000\" fill-rule=\"nonzero\" fill-opacity=\"1\" /><path clip-path=\"url(#clip550)\" d=\"M2292.35 1518.36 L2280.55 1536.81 L2292.35 1536.81 L2292.35 1518.36 M2291.13 1514.29 L2297.01 1514.29 L2297.01 1536.81 L2301.94 1536.81 L2301.94 1540.7 L2297.01 1540.7 L2297.01 1548.85 L2292.35 1548.85 L2292.35 1540.7 L2276.75 1540.7 L2276.75 1536.19 L2291.13 1514.29 Z\" fill=\"#000000\" fill-rule=\"nonzero\" fill-opacity=\"1\" /><polyline clip-path=\"url(#clip552)\" style=\"stroke:#000000; stroke-linecap:round; stroke-linejoin:round; stroke-width:2; stroke-opacity:0.1; fill:none\" points=\"112.177,1445.72 2352.76,1445.72 \"/>\n",
       "<polyline clip-path=\"url(#clip552)\" style=\"stroke:#000000; stroke-linecap:round; stroke-linejoin:round; stroke-width:2; stroke-opacity:0.1; fill:none\" points=\"112.177,1106.28 2352.76,1106.28 \"/>\n",
       "<polyline clip-path=\"url(#clip552)\" style=\"stroke:#000000; stroke-linecap:round; stroke-linejoin:round; stroke-width:2; stroke-opacity:0.1; fill:none\" points=\"112.177,766.846 2352.76,766.846 \"/>\n",
       "<polyline clip-path=\"url(#clip552)\" style=\"stroke:#000000; stroke-linecap:round; stroke-linejoin:round; stroke-width:2; stroke-opacity:0.1; fill:none\" points=\"112.177,427.411 2352.76,427.411 \"/>\n",
       "<polyline clip-path=\"url(#clip552)\" style=\"stroke:#000000; stroke-linecap:round; stroke-linejoin:round; stroke-width:2; stroke-opacity:0.1; fill:none\" points=\"112.177,87.9763 2352.76,87.9763 \"/>\n",
       "<polyline clip-path=\"url(#clip550)\" style=\"stroke:#000000; stroke-linecap:round; stroke-linejoin:round; stroke-width:4; stroke-opacity:1; fill:none\" points=\"112.177,1486.45 112.177,47.2441 \"/>\n",
       "<polyline clip-path=\"url(#clip550)\" style=\"stroke:#000000; stroke-linecap:round; stroke-linejoin:round; stroke-width:4; stroke-opacity:1; fill:none\" points=\"112.177,1445.72 131.075,1445.72 \"/>\n",
       "<polyline clip-path=\"url(#clip550)\" style=\"stroke:#000000; stroke-linecap:round; stroke-linejoin:round; stroke-width:4; stroke-opacity:1; fill:none\" points=\"112.177,1106.28 131.075,1106.28 \"/>\n",
       "<polyline clip-path=\"url(#clip550)\" style=\"stroke:#000000; stroke-linecap:round; stroke-linejoin:round; stroke-width:4; stroke-opacity:1; fill:none\" points=\"112.177,766.846 131.075,766.846 \"/>\n",
       "<polyline clip-path=\"url(#clip550)\" style=\"stroke:#000000; stroke-linecap:round; stroke-linejoin:round; stroke-width:4; stroke-opacity:1; fill:none\" points=\"112.177,427.411 131.075,427.411 \"/>\n",
       "<polyline clip-path=\"url(#clip550)\" style=\"stroke:#000000; stroke-linecap:round; stroke-linejoin:round; stroke-width:4; stroke-opacity:1; fill:none\" points=\"112.177,87.9763 131.075,87.9763 \"/>\n",
       "<path clip-path=\"url(#clip550)\" d=\"M64.2328 1431.51 Q60.6217 1431.51 58.793 1435.08 Q56.9875 1438.62 56.9875 1445.75 Q56.9875 1452.86 58.793 1456.42 Q60.6217 1459.96 64.2328 1459.96 Q67.867 1459.96 69.6726 1456.42 Q71.5013 1452.86 71.5013 1445.75 Q71.5013 1438.62 69.6726 1435.08 Q67.867 1431.51 64.2328 1431.51 M64.2328 1427.81 Q70.0429 1427.81 73.0985 1432.42 Q76.1772 1437 76.1772 1445.75 Q76.1772 1454.48 73.0985 1459.08 Q70.0429 1463.67 64.2328 1463.67 Q58.4226 1463.67 55.344 1459.08 Q52.2884 1454.48 52.2884 1445.75 Q52.2884 1437 55.344 1432.42 Q58.4226 1427.81 64.2328 1427.81 Z\" fill=\"#000000\" fill-rule=\"nonzero\" fill-opacity=\"1\" /><path clip-path=\"url(#clip550)\" d=\"M56.2699 1119.63 L63.9087 1119.63 L63.9087 1093.26 L55.5986 1094.93 L55.5986 1090.67 L63.8624 1089 L68.5383 1089 L68.5383 1119.63 L76.1772 1119.63 L76.1772 1123.56 L56.2699 1123.56 L56.2699 1119.63 Z\" fill=\"#000000\" fill-rule=\"nonzero\" fill-opacity=\"1\" /><path clip-path=\"url(#clip550)\" d=\"M59.8578 780.191 L76.1772 780.191 L76.1772 784.126 L54.2328 784.126 L54.2328 780.191 Q56.8949 777.436 61.4782 772.807 Q66.0846 768.154 67.2652 766.811 Q69.5105 764.288 70.3902 762.552 Q71.2929 760.793 71.2929 759.103 Q71.2929 756.348 69.3485 754.612 Q67.4272 752.876 64.3254 752.876 Q62.1263 752.876 59.6726 753.64 Q57.2421 754.404 54.4643 755.955 L54.4643 751.233 Q57.2884 750.098 59.7421 749.52 Q62.1958 748.941 64.2328 748.941 Q69.6031 748.941 72.7976 751.626 Q75.992 754.311 75.992 758.802 Q75.992 760.932 75.1818 762.853 Q74.3948 764.751 72.2883 767.344 Q71.7096 768.015 68.6078 771.233 Q65.5059 774.427 59.8578 780.191 Z\" fill=\"#000000\" fill-rule=\"nonzero\" fill-opacity=\"1\" /><path clip-path=\"url(#clip550)\" d=\"M69.0476 426.057 Q72.404 426.775 74.279 429.043 Q76.1772 431.312 76.1772 434.645 Q76.1772 439.761 72.6587 442.562 Q69.1402 445.362 62.6587 445.362 Q60.4828 445.362 58.168 444.923 Q55.8764 444.506 53.4227 443.649 L53.4227 439.136 Q55.3671 440.27 57.6819 440.849 Q59.9967 441.427 62.5198 441.427 Q66.918 441.427 69.2096 439.691 Q71.5244 437.955 71.5244 434.645 Q71.5244 431.589 69.3717 429.876 Q67.242 428.14 63.4226 428.14 L59.3949 428.14 L59.3949 424.298 L63.6078 424.298 Q67.0569 424.298 68.8855 422.932 Q70.7142 421.543 70.7142 418.951 Q70.7142 416.289 68.8161 414.876 Q66.9411 413.441 63.4226 413.441 Q61.5013 413.441 59.3023 413.858 Q57.1032 414.275 54.4643 415.154 L54.4643 410.988 Q57.1264 410.247 59.4412 409.877 Q61.7791 409.506 63.8393 409.506 Q69.1633 409.506 72.2652 411.937 Q75.367 414.344 75.367 418.464 Q75.367 421.335 73.7235 423.326 Q72.08 425.293 69.0476 426.057 Z\" fill=\"#000000\" fill-rule=\"nonzero\" fill-opacity=\"1\" /><path clip-path=\"url(#clip550)\" d=\"M66.5939 74.7703 L54.7884 93.2193 L66.5939 93.2193 L66.5939 74.7703 M65.367 70.6963 L71.2466 70.6963 L71.2466 93.2193 L76.1772 93.2193 L76.1772 97.1082 L71.2466 97.1082 L71.2466 105.256 L66.5939 105.256 L66.5939 97.1082 L50.9921 97.1082 L50.9921 92.5943 L65.367 70.6963 Z\" fill=\"#000000\" fill-rule=\"nonzero\" fill-opacity=\"1\" /><circle clip-path=\"url(#clip552)\" cx=\"175.59\" cy=\"427.411\" r=\"14.4\" fill=\"#0000ff\" fill-rule=\"evenodd\" fill-opacity=\"1\" stroke=\"#000000\" stroke-opacity=\"1\" stroke-width=\"3.2\"/>\n",
       "<circle clip-path=\"url(#clip552)\" cx=\"704.028\" cy=\"1106.28\" r=\"14.4\" fill=\"#0000ff\" fill-rule=\"evenodd\" fill-opacity=\"1\" stroke=\"#000000\" stroke-opacity=\"1\" stroke-width=\"3.2\"/>\n",
       "<circle clip-path=\"url(#clip552)\" cx=\"1232.47\" cy=\"766.846\" r=\"14.4\" fill=\"#0000ff\" fill-rule=\"evenodd\" fill-opacity=\"1\" stroke=\"#000000\" stroke-opacity=\"1\" stroke-width=\"3.2\"/>\n",
       "<circle clip-path=\"url(#clip552)\" cx=\"2289.34\" cy=\"87.9763\" r=\"14.4\" fill=\"#0000ff\" fill-rule=\"evenodd\" fill-opacity=\"1\" stroke=\"#000000\" stroke-opacity=\"1\" stroke-width=\"3.2\"/>\n",
       "<circle clip-path=\"url(#clip552)\" cx=\"175.59\" cy=\"1445.72\" r=\"14.4\" fill=\"#0000ff\" fill-rule=\"evenodd\" fill-opacity=\"1\" stroke=\"#000000\" stroke-opacity=\"1\" stroke-width=\"3.2\"/>\n",
       "<circle clip-path=\"url(#clip552)\" cx=\"704.028\" cy=\"766.846\" r=\"14.4\" fill=\"#0000ff\" fill-rule=\"evenodd\" fill-opacity=\"1\" stroke=\"#000000\" stroke-opacity=\"1\" stroke-width=\"3.2\"/>\n",
       "<circle clip-path=\"url(#clip552)\" cx=\"1760.9\" cy=\"1106.28\" r=\"14.4\" fill=\"#0000ff\" fill-rule=\"evenodd\" fill-opacity=\"1\" stroke=\"#000000\" stroke-opacity=\"1\" stroke-width=\"3.2\"/>\n",
       "<circle clip-path=\"url(#clip552)\" cx=\"1760.9\" cy=\"427.411\" r=\"14.4\" fill=\"#0000ff\" fill-rule=\"evenodd\" fill-opacity=\"1\" stroke=\"#000000\" stroke-opacity=\"1\" stroke-width=\"3.2\"/>\n",
       "<path clip-path=\"url(#clip550)\" d=\"M186.863 198.898 L546.36 198.898 L546.36 95.2176 L186.863 95.2176  Z\" fill=\"#ffffff\" fill-rule=\"evenodd\" fill-opacity=\"1\"/>\n",
       "<polyline clip-path=\"url(#clip550)\" style=\"stroke:#000000; stroke-linecap:round; stroke-linejoin:round; stroke-width:4; stroke-opacity:1; fill:none\" points=\"186.863,198.898 546.36,198.898 546.36,95.2176 186.863,95.2176 186.863,198.898 \"/>\n",
       "<circle clip-path=\"url(#clip550)\" cx=\"286.444\" cy=\"147.058\" r=\"20.48\" fill=\"#0000ff\" fill-rule=\"evenodd\" fill-opacity=\"1\" stroke=\"#000000\" stroke-opacity=\"1\" stroke-width=\"4.55111\"/>\n",
       "<path clip-path=\"url(#clip550)\" d=\"M390.702 133.62 L390.702 146.606 L396.581 146.606 Q399.845 146.606 401.627 144.916 Q403.41 143.227 403.41 140.102 Q403.41 137 401.627 135.31 Q399.845 133.62 396.581 133.62 L390.702 133.62 M386.026 129.778 L396.581 129.778 Q402.391 129.778 405.354 132.416 Q408.34 135.032 408.34 140.102 Q408.34 145.217 405.354 147.833 Q402.391 150.449 396.581 150.449 L390.702 150.449 L390.702 164.338 L386.026 164.338 L386.026 129.778 Z\" fill=\"#000000\" fill-rule=\"nonzero\" fill-opacity=\"1\" /><path clip-path=\"url(#clip550)\" d=\"M422.785 141.398 Q419.359 141.398 417.368 144.083 Q415.377 146.745 415.377 151.398 Q415.377 156.051 417.345 158.736 Q419.336 161.398 422.785 161.398 Q426.188 161.398 428.178 158.713 Q430.169 156.027 430.169 151.398 Q430.169 146.791 428.178 144.106 Q426.188 141.398 422.785 141.398 M422.785 137.787 Q428.34 137.787 431.512 141.398 Q434.683 145.009 434.683 151.398 Q434.683 157.764 431.512 161.398 Q428.34 165.009 422.785 165.009 Q417.206 165.009 414.035 161.398 Q410.887 157.764 410.887 151.398 Q410.887 145.009 414.035 141.398 Q417.206 137.787 422.785 137.787 Z\" fill=\"#000000\" fill-rule=\"nonzero\" fill-opacity=\"1\" /><path clip-path=\"url(#clip550)\" d=\"M441.743 138.412 L446.002 138.412 L446.002 164.338 L441.743 164.338 L441.743 138.412 M441.743 128.319 L446.002 128.319 L446.002 133.713 L441.743 133.713 L441.743 128.319 Z\" fill=\"#000000\" fill-rule=\"nonzero\" fill-opacity=\"1\" /><path clip-path=\"url(#clip550)\" d=\"M476.465 148.689 L476.465 164.338 L472.206 164.338 L472.206 148.828 Q472.206 145.148 470.771 143.319 Q469.335 141.49 466.465 141.49 Q463.016 141.49 461.025 143.69 Q459.035 145.889 459.035 149.685 L459.035 164.338 L454.752 164.338 L454.752 138.412 L459.035 138.412 L459.035 142.44 Q460.562 140.102 462.622 138.944 Q464.706 137.787 467.414 137.787 Q471.882 137.787 474.173 140.565 Q476.465 143.319 476.465 148.689 Z\" fill=\"#000000\" fill-rule=\"nonzero\" fill-opacity=\"1\" /><path clip-path=\"url(#clip550)\" d=\"M489.173 131.051 L489.173 138.412 L497.946 138.412 L497.946 141.722 L489.173 141.722 L489.173 155.796 Q489.173 158.967 490.03 159.87 Q490.909 160.773 493.571 160.773 L497.946 160.773 L497.946 164.338 L493.571 164.338 Q488.641 164.338 486.766 162.509 Q484.891 160.657 484.891 155.796 L484.891 141.722 L481.766 141.722 L481.766 138.412 L484.891 138.412 L484.891 131.051 L489.173 131.051 Z\" fill=\"#000000\" fill-rule=\"nonzero\" fill-opacity=\"1\" /><path clip-path=\"url(#clip550)\" d=\"M520.076 139.176 L520.076 143.203 Q518.27 142.277 516.326 141.815 Q514.381 141.352 512.298 141.352 Q509.127 141.352 507.53 142.324 Q505.956 143.296 505.956 145.24 Q505.956 146.722 507.09 147.578 Q508.224 148.412 511.65 149.176 L513.108 149.5 Q517.645 150.472 519.543 152.254 Q521.465 154.014 521.465 157.185 Q521.465 160.796 518.594 162.902 Q515.747 165.009 510.747 165.009 Q508.664 165.009 506.395 164.592 Q504.15 164.199 501.65 163.388 L501.65 158.99 Q504.011 160.217 506.303 160.842 Q508.594 161.444 510.84 161.444 Q513.849 161.444 515.469 160.426 Q517.09 159.384 517.09 157.509 Q517.09 155.773 515.909 154.847 Q514.752 153.921 510.794 153.064 L509.312 152.717 Q505.354 151.884 503.595 150.171 Q501.835 148.435 501.835 145.426 Q501.835 141.768 504.428 139.778 Q507.02 137.787 511.789 137.787 Q514.15 137.787 516.233 138.134 Q518.317 138.481 520.076 139.176 Z\" fill=\"#000000\" fill-rule=\"nonzero\" fill-opacity=\"1\" /></svg>\n"
      ]
     },
     "execution_count": 14,
     "metadata": {},
     "output_type": "execute_result"
    }
   ],
   "source": [
    "scatter([p.x for p in input_points], [p.y for p in input_points], label=\"Points\", color=:blue)"
   ]
  },
  {
   "cell_type": "markdown",
   "id": "1dcee949",
   "metadata": {},
   "source": [
    "### Find and visualize the convex hull"
   ]
  },
  {
   "cell_type": "code",
   "execution_count": 27,
   "id": "2244c801",
   "metadata": {},
   "outputs": [
    {
     "data": {
      "image/png": "[encoded data removed]",
      "image/svg+xml": [
       "<?xml version=\"1.0\" encoding=\"utf-8\"?>\n",
       "<svg xmlns=\"http://www.w3.org/2000/svg\" xmlns:xlink=\"http://www.w3.org/1999/xlink\" width=\"600\" height=\"400\" viewBox=\"0 0 2400 1600\">\n",
       "<defs>\n",
       "  <clipPath id=\"clip590\">\n",
       "    <rect x=\"0\" y=\"0\" width=\"2400\" height=\"1600\"/>\n",
       "  </clipPath>\n",
       "</defs>\n",
       "<path clip-path=\"url(#clip590)\" d=\"M0 1600 L2400 1600 L2400 0 L0 0  Z\" fill=\"#ffffff\" fill-rule=\"evenodd\" fill-opacity=\"1\"/>\n",
       "<defs>\n",
       "  <clipPath id=\"clip591\">\n",
       "    <rect x=\"480\" y=\"0\" width=\"1681\" height=\"1600\"/>\n",
       "  </clipPath>\n",
       "</defs>\n",
       "<path clip-path=\"url(#clip590)\" d=\"M175.445 1423.18 L2352.76 1423.18 L2352.76 47.2441 L175.445 47.2441  Z\" fill=\"#ffffff\" fill-rule=\"evenodd\" fill-opacity=\"1\"/>\n",
       "<defs>\n",
       "  <clipPath id=\"clip592\">\n",
       "    <rect x=\"175\" y=\"47\" width=\"2178\" height=\"1377\"/>\n",
       "  </clipPath>\n",
       "</defs>\n",
       "<polyline clip-path=\"url(#clip592)\" style=\"stroke:#000000; stroke-linecap:round; stroke-linejoin:round; stroke-width:2; stroke-opacity:0.1; fill:none\" points=\"237.067,1423.18 237.067,47.2441 \"/>\n",
       "<polyline clip-path=\"url(#clip592)\" style=\"stroke:#000000; stroke-linecap:round; stroke-linejoin:round; stroke-width:2; stroke-opacity:0.1; fill:none\" points=\"750.584,1423.18 750.584,47.2441 \"/>\n",
       "<polyline clip-path=\"url(#clip592)\" style=\"stroke:#000000; stroke-linecap:round; stroke-linejoin:round; stroke-width:2; stroke-opacity:0.1; fill:none\" points=\"1264.1,1423.18 1264.1,47.2441 \"/>\n",
       "<polyline clip-path=\"url(#clip592)\" style=\"stroke:#000000; stroke-linecap:round; stroke-linejoin:round; stroke-width:2; stroke-opacity:0.1; fill:none\" points=\"1777.62,1423.18 1777.62,47.2441 \"/>\n",
       "<polyline clip-path=\"url(#clip592)\" style=\"stroke:#000000; stroke-linecap:round; stroke-linejoin:round; stroke-width:2; stroke-opacity:0.1; fill:none\" points=\"2291.13,1423.18 2291.13,47.2441 \"/>\n",
       "<polyline clip-path=\"url(#clip590)\" style=\"stroke:#000000; stroke-linecap:round; stroke-linejoin:round; stroke-width:4; stroke-opacity:1; fill:none\" points=\"175.445,1423.18 2352.76,1423.18 \"/>\n",
       "<polyline clip-path=\"url(#clip590)\" style=\"stroke:#000000; stroke-linecap:round; stroke-linejoin:round; stroke-width:4; stroke-opacity:1; fill:none\" points=\"237.067,1423.18 237.067,1404.28 \"/>\n",
       "<polyline clip-path=\"url(#clip590)\" style=\"stroke:#000000; stroke-linecap:round; stroke-linejoin:round; stroke-width:4; stroke-opacity:1; fill:none\" points=\"750.584,1423.18 750.584,1404.28 \"/>\n",
       "<polyline clip-path=\"url(#clip590)\" style=\"stroke:#000000; stroke-linecap:round; stroke-linejoin:round; stroke-width:4; stroke-opacity:1; fill:none\" points=\"1264.1,1423.18 1264.1,1404.28 \"/>\n",
       "<polyline clip-path=\"url(#clip590)\" style=\"stroke:#000000; stroke-linecap:round; stroke-linejoin:round; stroke-width:4; stroke-opacity:1; fill:none\" points=\"1777.62,1423.18 1777.62,1404.28 \"/>\n",
       "<polyline clip-path=\"url(#clip590)\" style=\"stroke:#000000; stroke-linecap:round; stroke-linejoin:round; stroke-width:4; stroke-opacity:1; fill:none\" points=\"2291.13,1423.18 2291.13,1404.28 \"/>\n",
       "<path clip-path=\"url(#clip590)\" d=\"M237.067 1454.1 Q233.456 1454.1 231.627 1457.66 Q229.822 1461.2 229.822 1468.33 Q229.822 1475.44 231.627 1479.01 Q233.456 1482.55 237.067 1482.55 Q240.701 1482.55 242.507 1479.01 Q244.336 1475.44 244.336 1468.33 Q244.336 1461.2 242.507 1457.66 Q240.701 1454.1 237.067 1454.1 M237.067 1450.39 Q242.877 1450.39 245.933 1455 Q249.012 1459.58 249.012 1468.33 Q249.012 1477.06 245.933 1481.67 Q242.877 1486.25 237.067 1486.25 Q231.257 1486.25 228.178 1481.67 Q225.123 1477.06 225.123 1468.33 Q225.123 1459.58 228.178 1455 Q231.257 1450.39 237.067 1450.39 Z\" fill=\"#000000\" fill-rule=\"nonzero\" fill-opacity=\"1\" /><path clip-path=\"url(#clip590)\" d=\"M740.966 1481.64 L748.605 1481.64 L748.605 1455.28 L740.295 1456.95 L740.295 1452.69 L748.558 1451.02 L753.234 1451.02 L753.234 1481.64 L760.873 1481.64 L760.873 1485.58 L740.966 1485.58 L740.966 1481.64 Z\" fill=\"#000000\" fill-rule=\"nonzero\" fill-opacity=\"1\" /><path clip-path=\"url(#clip590)\" d=\"M1258.75 1481.64 L1275.07 1481.64 L1275.07 1485.58 L1253.13 1485.58 L1253.13 1481.64 Q1255.79 1478.89 1260.37 1474.26 Q1264.98 1469.61 1266.16 1468.27 Q1268.41 1465.74 1269.29 1464.01 Q1270.19 1462.25 1270.19 1460.56 Q1270.19 1457.8 1268.24 1456.07 Q1266.32 1454.33 1263.22 1454.33 Q1261.02 1454.33 1258.57 1455.09 Q1256.14 1455.86 1253.36 1457.41 L1253.36 1452.69 Q1256.18 1451.55 1258.64 1450.97 Q1261.09 1450.39 1263.13 1450.39 Q1268.5 1450.39 1271.69 1453.08 Q1274.89 1455.77 1274.89 1460.26 Q1274.89 1462.39 1274.08 1464.31 Q1273.29 1466.2 1271.18 1468.8 Q1270.61 1469.47 1267.5 1472.69 Q1264.4 1475.88 1258.75 1481.64 Z\" fill=\"#000000\" fill-rule=\"nonzero\" fill-opacity=\"1\" /><path clip-path=\"url(#clip590)\" d=\"M1781.86 1466.95 Q1785.22 1467.66 1787.1 1469.93 Q1788.99 1472.2 1788.99 1475.53 Q1788.99 1480.65 1785.48 1483.45 Q1781.96 1486.25 1775.48 1486.25 Q1773.3 1486.25 1770.99 1485.81 Q1768.69 1485.39 1766.24 1484.54 L1766.24 1480.02 Q1768.18 1481.16 1770.5 1481.74 Q1772.81 1482.32 1775.34 1482.32 Q1779.74 1482.32 1782.03 1480.58 Q1784.34 1478.84 1784.34 1475.53 Q1784.34 1472.48 1782.19 1470.77 Q1780.06 1469.03 1776.24 1469.03 L1772.21 1469.03 L1772.21 1465.19 L1776.43 1465.19 Q1779.87 1465.19 1781.7 1463.82 Q1783.53 1462.43 1783.53 1459.84 Q1783.53 1457.18 1781.63 1455.77 Q1779.76 1454.33 1776.24 1454.33 Q1774.32 1454.33 1772.12 1454.75 Q1769.92 1455.16 1767.28 1456.04 L1767.28 1451.88 Q1769.94 1451.14 1772.26 1450.77 Q1774.6 1450.39 1776.66 1450.39 Q1781.98 1450.39 1785.08 1452.83 Q1788.18 1455.23 1788.18 1459.35 Q1788.18 1462.22 1786.54 1464.21 Q1784.9 1466.18 1781.86 1466.95 Z\" fill=\"#000000\" fill-rule=\"nonzero\" fill-opacity=\"1\" /><path clip-path=\"url(#clip590)\" d=\"M2294.14 1455.09 L2282.34 1473.54 L2294.14 1473.54 L2294.14 1455.09 M2292.92 1451.02 L2298.8 1451.02 L2298.8 1473.54 L2303.73 1473.54 L2303.73 1477.43 L2298.8 1477.43 L2298.8 1485.58 L2294.14 1485.58 L2294.14 1477.43 L2278.54 1477.43 L2278.54 1472.92 L2292.92 1451.02 Z\" fill=\"#000000\" fill-rule=\"nonzero\" fill-opacity=\"1\" /><path clip-path=\"url(#clip590)\" d=\"M1171.07 1520.52 L1177.97 1520.52 L1189.78 1538.19 L1201.65 1520.52 L1208.56 1520.52 L1193.28 1543.34 L1209.58 1568.04 L1202.67 1568.04 L1189.3 1547.83 L1175.84 1568.04 L1168.9 1568.04 L1185.87 1542.68 L1171.07 1520.52 Z\" fill=\"#000000\" fill-rule=\"nonzero\" fill-opacity=\"1\" /><path clip-path=\"url(#clip590)\" d=\"M1211.55 1547.58 L1228.71 1547.58 L1228.71 1552.8 L1211.55 1552.8 L1211.55 1547.58 Z\" fill=\"#000000\" fill-rule=\"nonzero\" fill-opacity=\"1\" /><path clip-path=\"url(#clip590)\" d=\"M1254.23 1550.12 Q1247.14 1550.12 1244.4 1551.75 Q1241.66 1553.37 1241.66 1557.29 Q1241.66 1560.4 1243.7 1562.25 Q1245.77 1564.07 1249.3 1564.07 Q1254.17 1564.07 1257.1 1560.63 Q1260.06 1557.16 1260.06 1551.43 L1260.06 1550.12 L1254.23 1550.12 M1265.91 1547.71 L1265.91 1568.04 L1260.06 1568.04 L1260.06 1562.63 Q1258.05 1565.88 1255.06 1567.44 Q1252.07 1568.97 1247.74 1568.97 Q1242.27 1568.97 1239.02 1565.91 Q1235.8 1562.82 1235.8 1557.67 Q1235.8 1551.65 1239.82 1548.6 Q1243.86 1545.54 1251.85 1545.54 L1260.06 1545.54 L1260.06 1544.97 Q1260.06 1540.93 1257.38 1538.73 Q1254.74 1536.5 1249.94 1536.5 Q1246.88 1536.5 1243.98 1537.23 Q1241.09 1537.97 1238.41 1539.43 L1238.41 1534.02 Q1241.63 1532.78 1244.65 1532.17 Q1247.68 1531.54 1250.54 1531.54 Q1258.28 1531.54 1262.1 1535.55 Q1265.91 1539.56 1265.91 1547.71 Z\" fill=\"#000000\" fill-rule=\"nonzero\" fill-opacity=\"1\" /><path clip-path=\"url(#clip590)\" d=\"M1307.61 1532.4 L1294.72 1549.74 L1308.28 1568.04 L1301.37 1568.04 L1291 1554.04 L1280.62 1568.04 L1273.71 1568.04 L1287.56 1549.39 L1274.89 1532.4 L1281.8 1532.4 L1291.25 1545.1 L1300.7 1532.4 L1307.61 1532.4 Z\" fill=\"#000000\" fill-rule=\"nonzero\" fill-opacity=\"1\" /><path clip-path=\"url(#clip590)\" d=\"M1316.55 1532.4 L1322.41 1532.4 L1322.41 1568.04 L1316.55 1568.04 L1316.55 1532.4 M1316.55 1518.52 L1322.41 1518.52 L1322.41 1525.93 L1316.55 1525.93 L1316.55 1518.52 Z\" fill=\"#000000\" fill-rule=\"nonzero\" fill-opacity=\"1\" /><path clip-path=\"url(#clip590)\" d=\"M1357.39 1533.45 L1357.39 1538.98 Q1354.91 1537.71 1352.23 1537.07 Q1349.56 1536.44 1346.7 1536.44 Q1342.34 1536.44 1340.14 1537.77 Q1337.97 1539.11 1337.97 1541.79 Q1337.97 1543.82 1339.53 1545 Q1341.09 1546.15 1345.8 1547.2 L1347.81 1547.64 Q1354.05 1548.98 1356.66 1551.43 Q1359.3 1553.85 1359.3 1558.21 Q1359.3 1563.17 1355.35 1566.07 Q1351.44 1568.97 1344.56 1568.97 Q1341.7 1568.97 1338.58 1568.39 Q1335.49 1567.85 1332.05 1566.74 L1332.05 1560.69 Q1335.3 1562.38 1338.45 1563.24 Q1341.6 1564.07 1344.69 1564.07 Q1348.83 1564.07 1351.06 1562.66 Q1353.28 1561.23 1353.28 1558.65 Q1353.28 1556.27 1351.66 1554.99 Q1350.07 1553.72 1344.63 1552.54 L1342.59 1552.07 Q1337.15 1550.92 1334.73 1548.56 Q1332.31 1546.18 1332.31 1542.04 Q1332.31 1537.01 1335.87 1534.27 Q1339.44 1531.54 1346 1531.54 Q1349.24 1531.54 1352.11 1532.01 Q1354.97 1532.49 1357.39 1533.45 Z\" fill=\"#000000\" fill-rule=\"nonzero\" fill-opacity=\"1\" /><polyline clip-path=\"url(#clip592)\" style=\"stroke:#000000; stroke-linecap:round; stroke-linejoin:round; stroke-width:2; stroke-opacity:0.1; fill:none\" points=\"175.445,1384.24 2352.76,1384.24 \"/>\n",
       "<polyline clip-path=\"url(#clip592)\" style=\"stroke:#000000; stroke-linecap:round; stroke-linejoin:round; stroke-width:2; stroke-opacity:0.1; fill:none\" points=\"175.445,1059.73 2352.76,1059.73 \"/>\n",
       "<polyline clip-path=\"url(#clip592)\" style=\"stroke:#000000; stroke-linecap:round; stroke-linejoin:round; stroke-width:2; stroke-opacity:0.1; fill:none\" points=\"175.445,735.212 2352.76,735.212 \"/>\n",
       "<polyline clip-path=\"url(#clip592)\" style=\"stroke:#000000; stroke-linecap:round; stroke-linejoin:round; stroke-width:2; stroke-opacity:0.1; fill:none\" points=\"175.445,410.699 2352.76,410.699 \"/>\n",
       "<polyline clip-path=\"url(#clip592)\" style=\"stroke:#000000; stroke-linecap:round; stroke-linejoin:round; stroke-width:2; stroke-opacity:0.1; fill:none\" points=\"175.445,86.1857 2352.76,86.1857 \"/>\n",
       "<polyline clip-path=\"url(#clip590)\" style=\"stroke:#000000; stroke-linecap:round; stroke-linejoin:round; stroke-width:4; stroke-opacity:1; fill:none\" points=\"175.445,1423.18 175.445,47.2441 \"/>\n",
       "<polyline clip-path=\"url(#clip590)\" style=\"stroke:#000000; stroke-linecap:round; stroke-linejoin:round; stroke-width:4; stroke-opacity:1; fill:none\" points=\"175.445,1384.24 194.343,1384.24 \"/>\n",
       "<polyline clip-path=\"url(#clip590)\" style=\"stroke:#000000; stroke-linecap:round; stroke-linejoin:round; stroke-width:4; stroke-opacity:1; fill:none\" points=\"175.445,1059.73 194.343,1059.73 \"/>\n",
       "<polyline clip-path=\"url(#clip590)\" style=\"stroke:#000000; stroke-linecap:round; stroke-linejoin:round; stroke-width:4; stroke-opacity:1; fill:none\" points=\"175.445,735.212 194.343,735.212 \"/>\n",
       "<polyline clip-path=\"url(#clip590)\" style=\"stroke:#000000; stroke-linecap:round; stroke-linejoin:round; stroke-width:4; stroke-opacity:1; fill:none\" points=\"175.445,410.699 194.343,410.699 \"/>\n",
       "<polyline clip-path=\"url(#clip590)\" style=\"stroke:#000000; stroke-linecap:round; stroke-linejoin:round; stroke-width:4; stroke-opacity:1; fill:none\" points=\"175.445,86.1857 194.343,86.1857 \"/>\n",
       "<path clip-path=\"url(#clip590)\" d=\"M127.501 1370.04 Q123.89 1370.04 122.061 1373.6 Q120.255 1377.14 120.255 1384.27 Q120.255 1391.38 122.061 1394.94 Q123.89 1398.49 127.501 1398.49 Q131.135 1398.49 132.941 1394.94 Q134.769 1391.38 134.769 1384.27 Q134.769 1377.14 132.941 1373.6 Q131.135 1370.04 127.501 1370.04 M127.501 1366.33 Q133.311 1366.33 136.367 1370.94 Q139.445 1375.52 139.445 1384.27 Q139.445 1393 136.367 1397.61 Q133.311 1402.19 127.501 1402.19 Q121.691 1402.19 118.612 1397.61 Q115.556 1393 115.556 1384.27 Q115.556 1375.52 118.612 1370.94 Q121.691 1366.33 127.501 1366.33 Z\" fill=\"#000000\" fill-rule=\"nonzero\" fill-opacity=\"1\" /><path clip-path=\"url(#clip590)\" d=\"M119.538 1073.07 L127.177 1073.07 L127.177 1046.7 L118.867 1048.37 L118.867 1044.11 L127.13 1042.45 L131.806 1042.45 L131.806 1073.07 L139.445 1073.07 L139.445 1077.01 L119.538 1077.01 L119.538 1073.07 Z\" fill=\"#000000\" fill-rule=\"nonzero\" fill-opacity=\"1\" /><path clip-path=\"url(#clip590)\" d=\"M123.126 748.557 L139.445 748.557 L139.445 752.492 L117.501 752.492 L117.501 748.557 Q120.163 745.802 124.746 741.173 Q129.353 736.52 130.533 735.177 Q132.779 732.654 133.658 730.918 Q134.561 729.159 134.561 727.469 Q134.561 724.714 132.617 722.978 Q130.695 721.242 127.593 721.242 Q125.394 721.242 122.941 722.006 Q120.51 722.77 117.732 724.321 L117.732 719.599 Q120.556 718.464 123.01 717.886 Q125.464 717.307 127.501 717.307 Q132.871 717.307 136.066 719.992 Q139.26 722.677 139.26 727.168 Q139.26 729.298 138.45 731.219 Q137.663 733.117 135.556 735.71 Q134.978 736.381 131.876 739.599 Q128.774 742.793 123.126 748.557 Z\" fill=\"#000000\" fill-rule=\"nonzero\" fill-opacity=\"1\" /><path clip-path=\"url(#clip590)\" d=\"M132.316 409.345 Q135.672 410.062 137.547 412.331 Q139.445 414.599 139.445 417.933 Q139.445 423.048 135.927 425.849 Q132.408 428.65 125.927 428.65 Q123.751 428.65 121.436 428.21 Q119.144 427.794 116.691 426.937 L116.691 422.423 Q118.635 423.558 120.95 424.136 Q123.265 424.715 125.788 424.715 Q130.186 424.715 132.478 422.979 Q134.792 421.243 134.792 417.933 Q134.792 414.877 132.64 413.164 Q130.51 411.428 126.691 411.428 L122.663 411.428 L122.663 407.585 L126.876 407.585 Q130.325 407.585 132.154 406.22 Q133.982 404.831 133.982 402.238 Q133.982 399.576 132.084 398.164 Q130.209 396.729 126.691 396.729 Q124.769 396.729 122.57 397.146 Q120.371 397.562 117.732 398.442 L117.732 394.275 Q120.394 393.535 122.709 393.164 Q125.047 392.794 127.107 392.794 Q132.431 392.794 135.533 395.224 Q138.635 397.632 138.635 401.752 Q138.635 404.622 136.992 406.613 Q135.348 408.581 132.316 409.345 Z\" fill=\"#000000\" fill-rule=\"nonzero\" fill-opacity=\"1\" /><path clip-path=\"url(#clip590)\" d=\"M129.862 72.9797 L118.056 91.4287 L129.862 91.4287 L129.862 72.9797 M128.635 68.9057 L134.515 68.9057 L134.515 91.4287 L139.445 91.4287 L139.445 95.3176 L134.515 95.3176 L134.515 103.466 L129.862 103.466 L129.862 95.3176 L114.26 95.3176 L114.26 90.8037 L128.635 68.9057 Z\" fill=\"#000000\" fill-rule=\"nonzero\" fill-opacity=\"1\" /><path clip-path=\"url(#clip590)\" d=\"M16.4842 826.783 L16.4842 819.876 L36.0269 806.699 L16.4842 793.617 L16.4842 786.711 L41.3741 803.516 L64.0042 803.516 L64.0042 809.977 L41.3741 809.977 L16.4842 826.783 Z\" fill=\"#000000\" fill-rule=\"nonzero\" fill-opacity=\"1\" /><path clip-path=\"url(#clip590)\" d=\"M43.5384 791.389 L43.5384 774.234 L48.7583 774.234 L48.7583 791.389 L43.5384 791.389 Z\" fill=\"#000000\" fill-rule=\"nonzero\" fill-opacity=\"1\" /><path clip-path=\"url(#clip590)\" d=\"M46.0847 748.707 Q46.0847 755.805 47.7079 758.542 Q49.3312 761.28 53.2461 761.28 Q56.3653 761.28 58.2114 759.243 Q60.0256 757.174 60.0256 753.641 Q60.0256 748.771 56.5881 745.843 Q53.1188 742.883 47.3897 742.883 L46.0847 742.883 L46.0847 748.707 M43.6657 737.026 L64.0042 737.026 L64.0042 742.883 L58.5933 742.883 Q61.8398 744.888 63.3994 747.88 Q64.9272 750.872 64.9272 755.2 Q64.9272 760.675 61.8716 763.921 Q58.7843 767.136 53.6281 767.136 Q47.6125 767.136 44.5569 763.126 Q41.5014 759.083 41.5014 751.094 L41.5014 742.883 L40.9285 742.883 Q36.8862 742.883 34.6901 745.556 Q32.4621 748.198 32.4621 753.004 Q32.4621 756.06 33.1941 758.956 Q33.9262 761.852 35.3903 764.526 L29.9795 764.526 Q28.7381 761.311 28.1334 758.288 Q27.4968 755.264 27.4968 752.399 Q27.4968 744.665 31.5072 740.846 Q35.5176 737.026 43.6657 737.026 Z\" fill=\"#000000\" fill-rule=\"nonzero\" fill-opacity=\"1\" /><path clip-path=\"url(#clip590)\" d=\"M28.3562 695.331 L45.7028 708.221 L64.0042 694.662 L64.0042 701.569 L49.9996 711.945 L64.0042 722.321 L64.0042 729.228 L45.3526 715.383 L28.3562 728.051 L28.3562 721.144 L41.0558 711.691 L28.3562 702.238 L28.3562 695.331 Z\" fill=\"#000000\" fill-rule=\"nonzero\" fill-opacity=\"1\" /><path clip-path=\"url(#clip590)\" d=\"M28.3562 686.387 L28.3562 680.531 L64.0042 680.531 L64.0042 686.387 L28.3562 686.387 M14.479 686.387 L14.479 680.531 L21.895 680.531 L21.895 686.387 L14.479 686.387 Z\" fill=\"#000000\" fill-rule=\"nonzero\" fill-opacity=\"1\" /><path clip-path=\"url(#clip590)\" d=\"M29.4065 645.551 L34.9447 645.551 Q33.6716 648.034 33.035 650.707 Q32.3984 653.381 32.3984 656.245 Q32.3984 660.606 33.7352 662.802 Q35.072 664.966 37.7456 664.966 Q39.7826 664.966 40.9603 663.407 Q42.1061 661.847 43.1565 657.137 L43.6021 655.131 Q44.9389 648.893 47.3897 646.283 Q49.8086 643.641 54.1691 643.641 Q59.1344 643.641 62.0308 647.588 Q64.9272 651.503 64.9272 658.378 Q64.9272 661.242 64.3543 664.362 Q63.8132 667.449 62.6992 670.887 L56.6518 670.887 Q58.3387 667.64 59.198 664.489 Q60.0256 661.338 60.0256 658.251 Q60.0256 654.113 58.6251 651.885 Q57.1929 649.657 54.6147 649.657 Q52.2276 649.657 50.9545 651.28 Q49.6813 652.872 48.5037 658.314 L48.0262 660.351 Q46.8804 665.794 44.5251 668.213 Q42.138 670.632 38.0002 670.632 Q32.9713 670.632 30.2341 667.067 Q27.4968 663.502 27.4968 656.946 Q27.4968 653.699 27.9743 650.835 Q28.4517 647.97 29.4065 645.551 Z\" fill=\"#000000\" fill-rule=\"nonzero\" fill-opacity=\"1\" /><circle clip-path=\"url(#clip592)\" cx=\"237.067\" cy=\"410.699\" r=\"14.4\" fill=\"#0000ff\" fill-rule=\"evenodd\" fill-opacity=\"1\" stroke=\"#000000\" stroke-opacity=\"1\" stroke-width=\"3.2\"/>\n",
       "<circle clip-path=\"url(#clip592)\" cx=\"750.584\" cy=\"1059.73\" r=\"14.4\" fill=\"#0000ff\" fill-rule=\"evenodd\" fill-opacity=\"1\" stroke=\"#000000\" stroke-opacity=\"1\" stroke-width=\"3.2\"/>\n",
       "<circle clip-path=\"url(#clip592)\" cx=\"1264.1\" cy=\"735.212\" r=\"14.4\" fill=\"#0000ff\" fill-rule=\"evenodd\" fill-opacity=\"1\" stroke=\"#000000\" stroke-opacity=\"1\" stroke-width=\"3.2\"/>\n",
       "<circle clip-path=\"url(#clip592)\" cx=\"2291.13\" cy=\"86.1857\" r=\"14.4\" fill=\"#0000ff\" fill-rule=\"evenodd\" fill-opacity=\"1\" stroke=\"#000000\" stroke-opacity=\"1\" stroke-width=\"3.2\"/>\n",
       "<circle clip-path=\"url(#clip592)\" cx=\"237.067\" cy=\"1384.24\" r=\"14.4\" fill=\"#0000ff\" fill-rule=\"evenodd\" fill-opacity=\"1\" stroke=\"#000000\" stroke-opacity=\"1\" stroke-width=\"3.2\"/>\n",
       "<circle clip-path=\"url(#clip592)\" cx=\"750.584\" cy=\"735.212\" r=\"14.4\" fill=\"#0000ff\" fill-rule=\"evenodd\" fill-opacity=\"1\" stroke=\"#000000\" stroke-opacity=\"1\" stroke-width=\"3.2\"/>\n",
       "<circle clip-path=\"url(#clip592)\" cx=\"1777.62\" cy=\"1059.73\" r=\"14.4\" fill=\"#0000ff\" fill-rule=\"evenodd\" fill-opacity=\"1\" stroke=\"#000000\" stroke-opacity=\"1\" stroke-width=\"3.2\"/>\n",
       "<circle clip-path=\"url(#clip592)\" cx=\"1777.62\" cy=\"410.699\" r=\"14.4\" fill=\"#0000ff\" fill-rule=\"evenodd\" fill-opacity=\"1\" stroke=\"#000000\" stroke-opacity=\"1\" stroke-width=\"3.2\"/>\n",
       "<polyline clip-path=\"url(#clip592)\" style=\"stroke:#ff0000; stroke-linecap:round; stroke-linejoin:round; stroke-width:4; stroke-opacity:1; fill:none\" points=\"237.067,1384.24 1777.62,1059.73 2291.13,86.1857 237.067,410.699 237.067,1384.24 \"/>\n",
       "<path clip-path=\"url(#clip590)\" d=\"M248.022 248.629 L742.349 248.629 L742.349 93.1086 L248.022 93.1086  Z\" fill=\"#ffffff\" fill-rule=\"evenodd\" fill-opacity=\"1\"/>\n",
       "<polyline clip-path=\"url(#clip590)\" style=\"stroke:#000000; stroke-linecap:round; stroke-linejoin:round; stroke-width:4; stroke-opacity:1; fill:none\" points=\"248.022,248.629 742.349,248.629 742.349,93.1086 248.022,93.1086 248.022,248.629 \"/>\n",
       "<circle clip-path=\"url(#clip590)\" cx=\"344.792\" cy=\"144.949\" r=\"20.48\" fill=\"#0000ff\" fill-rule=\"evenodd\" fill-opacity=\"1\" stroke=\"#000000\" stroke-opacity=\"1\" stroke-width=\"4.55111\"/>\n",
       "<path clip-path=\"url(#clip590)\" d=\"M446.237 131.511 L446.237 144.497 L452.116 144.497 Q455.38 144.497 457.163 142.807 Q458.945 141.118 458.945 137.993 Q458.945 134.891 457.163 133.201 Q455.38 131.511 452.116 131.511 L446.237 131.511 M441.561 127.669 L452.116 127.669 Q457.927 127.669 460.89 130.307 Q463.876 132.923 463.876 137.993 Q463.876 143.108 460.89 145.724 Q457.927 148.34 452.116 148.34 L446.237 148.34 L446.237 162.229 L441.561 162.229 L441.561 127.669 Z\" fill=\"#000000\" fill-rule=\"nonzero\" fill-opacity=\"1\" /><path clip-path=\"url(#clip590)\" d=\"M478.32 139.289 Q474.894 139.289 472.903 141.974 Q470.913 144.636 470.913 149.289 Q470.913 153.942 472.88 156.627 Q474.871 159.289 478.32 159.289 Q481.723 159.289 483.714 156.604 Q485.704 153.918 485.704 149.289 Q485.704 144.682 483.714 141.997 Q481.723 139.289 478.32 139.289 M478.32 135.678 Q483.876 135.678 487.047 139.289 Q490.218 142.9 490.218 149.289 Q490.218 155.655 487.047 159.289 Q483.876 162.9 478.32 162.9 Q472.741 162.9 469.57 159.289 Q466.422 155.655 466.422 149.289 Q466.422 142.9 469.57 139.289 Q472.741 135.678 478.32 135.678 Z\" fill=\"#000000\" fill-rule=\"nonzero\" fill-opacity=\"1\" /><path clip-path=\"url(#clip590)\" d=\"M497.278 136.303 L501.537 136.303 L501.537 162.229 L497.278 162.229 L497.278 136.303 M497.278 126.21 L501.537 126.21 L501.537 131.604 L497.278 131.604 L497.278 126.21 Z\" fill=\"#000000\" fill-rule=\"nonzero\" fill-opacity=\"1\" /><path clip-path=\"url(#clip590)\" d=\"M532 146.581 L532 162.229 L527.741 162.229 L527.741 146.719 Q527.741 143.039 526.306 141.21 Q524.871 139.382 522 139.382 Q518.551 139.382 516.561 141.581 Q514.57 143.78 514.57 147.576 L514.57 162.229 L510.287 162.229 L510.287 136.303 L514.57 136.303 L514.57 140.331 Q516.098 137.993 518.158 136.835 Q520.241 135.678 522.949 135.678 Q527.417 135.678 529.709 138.456 Q532 141.21 532 146.581 Z\" fill=\"#000000\" fill-rule=\"nonzero\" fill-opacity=\"1\" /><path clip-path=\"url(#clip590)\" d=\"M544.709 128.942 L544.709 136.303 L553.482 136.303 L553.482 139.613 L544.709 139.613 L544.709 153.687 Q544.709 156.858 545.565 157.761 Q546.445 158.664 549.107 158.664 L553.482 158.664 L553.482 162.229 L549.107 162.229 Q544.176 162.229 542.301 160.4 Q540.426 158.548 540.426 153.687 L540.426 139.613 L537.301 139.613 L537.301 136.303 L540.426 136.303 L540.426 128.942 L544.709 128.942 Z\" fill=\"#000000\" fill-rule=\"nonzero\" fill-opacity=\"1\" /><path clip-path=\"url(#clip590)\" d=\"M575.611 137.067 L575.611 141.094 Q573.806 140.169 571.861 139.706 Q569.917 139.243 567.833 139.243 Q564.662 139.243 563.065 140.215 Q561.491 141.187 561.491 143.131 Q561.491 144.613 562.625 145.469 Q563.759 146.303 567.185 147.067 L568.644 147.391 Q573.181 148.363 575.079 150.145 Q577 151.905 577 155.076 Q577 158.687 574.13 160.793 Q571.282 162.9 566.283 162.9 Q564.199 162.9 561.931 162.483 Q559.685 162.09 557.185 161.28 L557.185 156.881 Q559.546 158.108 561.838 158.733 Q564.13 159.335 566.375 159.335 Q569.384 159.335 571.005 158.317 Q572.625 157.275 572.625 155.4 Q572.625 153.664 571.445 152.738 Q570.287 151.812 566.329 150.956 L564.847 150.608 Q560.889 149.775 559.13 148.062 Q557.371 146.326 557.371 143.317 Q557.371 139.659 559.963 137.669 Q562.556 135.678 567.324 135.678 Q569.685 135.678 571.769 136.025 Q573.852 136.372 575.611 137.067 Z\" fill=\"#000000\" fill-rule=\"nonzero\" fill-opacity=\"1\" /><polyline clip-path=\"url(#clip590)\" style=\"stroke:#ff0000; stroke-linecap:round; stroke-linejoin:round; stroke-width:4; stroke-opacity:1; fill:none\" points=\"272.215,196.789 417.369,196.789 \"/>\n",
       "<path clip-path=\"url(#clip590)\" d=\"M469.431 182.171 L469.431 187.101 Q467.07 184.902 464.385 183.814 Q461.723 182.726 458.714 182.726 Q452.788 182.726 449.64 186.36 Q446.491 189.972 446.491 196.823 Q446.491 203.652 449.64 207.286 Q452.788 210.897 458.714 210.897 Q461.723 210.897 464.385 209.809 Q467.07 208.721 469.431 206.522 L469.431 211.407 Q466.977 213.073 464.223 213.907 Q461.491 214.74 458.436 214.74 Q450.589 214.74 446.075 209.948 Q441.561 205.133 441.561 196.823 Q441.561 188.49 446.075 183.698 Q450.589 178.884 458.436 178.884 Q461.538 178.884 464.269 179.717 Q467.024 180.527 469.431 182.171 Z\" fill=\"#000000\" fill-rule=\"nonzero\" fill-opacity=\"1\" /><path clip-path=\"url(#clip590)\" d=\"M486.514 191.129 Q483.089 191.129 481.098 193.814 Q479.107 196.476 479.107 201.129 Q479.107 205.782 481.075 208.467 Q483.065 211.129 486.514 211.129 Q489.917 211.129 491.908 208.444 Q493.899 205.758 493.899 201.129 Q493.899 196.522 491.908 193.837 Q489.917 191.129 486.514 191.129 M486.514 187.518 Q492.07 187.518 495.241 191.129 Q498.413 194.74 498.413 201.129 Q498.413 207.495 495.241 211.129 Q492.07 214.74 486.514 214.74 Q480.936 214.74 477.764 211.129 Q474.616 207.495 474.616 201.129 Q474.616 194.74 477.764 191.129 Q480.936 187.518 486.514 187.518 Z\" fill=\"#000000\" fill-rule=\"nonzero\" fill-opacity=\"1\" /><path clip-path=\"url(#clip590)\" d=\"M527.023 198.421 L527.023 214.069 L522.764 214.069 L522.764 198.559 Q522.764 194.879 521.329 193.05 Q519.894 191.222 517.024 191.222 Q513.574 191.222 511.584 193.421 Q509.593 195.62 509.593 199.416 L509.593 214.069 L505.311 214.069 L505.311 188.143 L509.593 188.143 L509.593 192.171 Q511.121 189.833 513.181 188.675 Q515.264 187.518 517.973 187.518 Q522.44 187.518 524.732 190.296 Q527.023 193.05 527.023 198.421 Z\" fill=\"#000000\" fill-rule=\"nonzero\" fill-opacity=\"1\" /><path clip-path=\"url(#clip590)\" d=\"M532.463 188.143 L536.977 188.143 L545.079 209.902 L553.181 188.143 L557.695 188.143 L547.972 214.069 L542.185 214.069 L532.463 188.143 Z\" fill=\"#000000\" fill-rule=\"nonzero\" fill-opacity=\"1\" /><path clip-path=\"url(#clip590)\" d=\"M585.75 200.041 L585.75 202.124 L566.167 202.124 Q566.445 206.522 568.806 208.837 Q571.19 211.129 575.426 211.129 Q577.88 211.129 580.171 210.527 Q582.486 209.925 584.755 208.721 L584.755 212.749 Q582.463 213.721 580.056 214.231 Q577.648 214.74 575.171 214.74 Q568.968 214.74 565.333 211.129 Q561.722 207.518 561.722 201.36 Q561.722 194.995 565.148 191.268 Q568.597 187.518 574.431 187.518 Q579.662 187.518 582.694 190.897 Q585.75 194.254 585.75 200.041 M581.491 198.791 Q581.444 195.296 579.523 193.212 Q577.625 191.129 574.477 191.129 Q570.912 191.129 568.759 193.143 Q566.63 195.157 566.306 198.814 L581.491 198.791 Z\" fill=\"#000000\" fill-rule=\"nonzero\" fill-opacity=\"1\" /><path clip-path=\"url(#clip590)\" d=\"M613.458 188.143 L604.083 200.759 L613.944 214.069 L608.921 214.069 L601.375 203.883 L593.829 214.069 L588.806 214.069 L598.875 200.504 L589.662 188.143 L594.685 188.143 L601.56 197.379 L608.435 188.143 L613.458 188.143 Z\" fill=\"#000000\" fill-rule=\"nonzero\" fill-opacity=\"1\" /><path clip-path=\"url(#clip590)\" d=\"M635.217 179.509 L639.893 179.509 L639.893 193.675 L656.884 193.675 L656.884 179.509 L661.56 179.509 L661.56 214.069 L656.884 214.069 L656.884 197.61 L639.893 197.61 L639.893 214.069 L635.217 214.069 L635.217 179.509 Z\" fill=\"#000000\" fill-rule=\"nonzero\" fill-opacity=\"1\" /><path clip-path=\"url(#clip590)\" d=\"M670.24 203.837 L670.24 188.143 L674.5 188.143 L674.5 203.675 Q674.5 207.356 675.935 209.208 Q677.37 211.036 680.24 211.036 Q683.689 211.036 685.68 208.837 Q687.694 206.638 687.694 202.842 L687.694 188.143 L691.953 188.143 L691.953 214.069 L687.694 214.069 L687.694 210.087 Q686.143 212.448 684.083 213.606 Q682.046 214.74 679.337 214.74 Q674.87 214.74 672.555 211.962 Q670.24 209.184 670.24 203.837 M680.958 187.518 L680.958 187.518 Z\" fill=\"#000000\" fill-rule=\"nonzero\" fill-opacity=\"1\" /><path clip-path=\"url(#clip590)\" d=\"M700.726 178.05 L704.985 178.05 L704.985 214.069 L700.726 214.069 L700.726 178.05 Z\" fill=\"#000000\" fill-rule=\"nonzero\" fill-opacity=\"1\" /><path clip-path=\"url(#clip590)\" d=\"M713.897 178.05 L718.157 178.05 L718.157 214.069 L713.897 214.069 L713.897 178.05 Z\" fill=\"#000000\" fill-rule=\"nonzero\" fill-opacity=\"1\" /></svg>\n"
      ],
      "text/html": [
       "<?xml version=\"1.0\" encoding=\"utf-8\"?>\n",
       "<svg xmlns=\"http://www.w3.org/2000/svg\" xmlns:xlink=\"http://www.w3.org/1999/xlink\" width=\"600\" height=\"400\" viewBox=\"0 0 2400 1600\">\n",
       "<defs>\n",
       "  <clipPath id=\"clip640\">\n",
       "    <rect x=\"0\" y=\"0\" width=\"2400\" height=\"1600\"/>\n",
       "  </clipPath>\n",
       "</defs>\n",
       "<path clip-path=\"url(#clip640)\" d=\"M0 1600 L2400 1600 L2400 0 L0 0  Z\" fill=\"#ffffff\" fill-rule=\"evenodd\" fill-opacity=\"1\"/>\n",
       "<defs>\n",
       "  <clipPath id=\"clip641\">\n",
       "    <rect x=\"480\" y=\"0\" width=\"1681\" height=\"1600\"/>\n",
       "  </clipPath>\n",
       "</defs>\n",
       "<path clip-path=\"url(#clip640)\" d=\"M175.445 1423.18 L2352.76 1423.18 L2352.76 47.2441 L175.445 47.2441  Z\" fill=\"#ffffff\" fill-rule=\"evenodd\" fill-opacity=\"1\"/>\n",
       "<defs>\n",
       "  <clipPath id=\"clip642\">\n",
       "    <rect x=\"175\" y=\"47\" width=\"2178\" height=\"1377\"/>\n",
       "  </clipPath>\n",
       "</defs>\n",
       "<polyline clip-path=\"url(#clip642)\" style=\"stroke:#000000; stroke-linecap:round; stroke-linejoin:round; stroke-width:2; stroke-opacity:0.1; fill:none\" points=\"237.067,1423.18 237.067,47.2441 \"/>\n",
       "<polyline clip-path=\"url(#clip642)\" style=\"stroke:#000000; stroke-linecap:round; stroke-linejoin:round; stroke-width:2; stroke-opacity:0.1; fill:none\" points=\"750.584,1423.18 750.584,47.2441 \"/>\n",
       "<polyline clip-path=\"url(#clip642)\" style=\"stroke:#000000; stroke-linecap:round; stroke-linejoin:round; stroke-width:2; stroke-opacity:0.1; fill:none\" points=\"1264.1,1423.18 1264.1,47.2441 \"/>\n",
       "<polyline clip-path=\"url(#clip642)\" style=\"stroke:#000000; stroke-linecap:round; stroke-linejoin:round; stroke-width:2; stroke-opacity:0.1; fill:none\" points=\"1777.62,1423.18 1777.62,47.2441 \"/>\n",
       "<polyline clip-path=\"url(#clip642)\" style=\"stroke:#000000; stroke-linecap:round; stroke-linejoin:round; stroke-width:2; stroke-opacity:0.1; fill:none\" points=\"2291.13,1423.18 2291.13,47.2441 \"/>\n",
       "<polyline clip-path=\"url(#clip640)\" style=\"stroke:#000000; stroke-linecap:round; stroke-linejoin:round; stroke-width:4; stroke-opacity:1; fill:none\" points=\"175.445,1423.18 2352.76,1423.18 \"/>\n",
       "<polyline clip-path=\"url(#clip640)\" style=\"stroke:#000000; stroke-linecap:round; stroke-linejoin:round; stroke-width:4; stroke-opacity:1; fill:none\" points=\"237.067,1423.18 237.067,1404.28 \"/>\n",
       "<polyline clip-path=\"url(#clip640)\" style=\"stroke:#000000; stroke-linecap:round; stroke-linejoin:round; stroke-width:4; stroke-opacity:1; fill:none\" points=\"750.584,1423.18 750.584,1404.28 \"/>\n",
       "<polyline clip-path=\"url(#clip640)\" style=\"stroke:#000000; stroke-linecap:round; stroke-linejoin:round; stroke-width:4; stroke-opacity:1; fill:none\" points=\"1264.1,1423.18 1264.1,1404.28 \"/>\n",
       "<polyline clip-path=\"url(#clip640)\" style=\"stroke:#000000; stroke-linecap:round; stroke-linejoin:round; stroke-width:4; stroke-opacity:1; fill:none\" points=\"1777.62,1423.18 1777.62,1404.28 \"/>\n",
       "<polyline clip-path=\"url(#clip640)\" style=\"stroke:#000000; stroke-linecap:round; stroke-linejoin:round; stroke-width:4; stroke-opacity:1; fill:none\" points=\"2291.13,1423.18 2291.13,1404.28 \"/>\n",
       "<path clip-path=\"url(#clip640)\" d=\"M237.067 1454.1 Q233.456 1454.1 231.627 1457.66 Q229.822 1461.2 229.822 1468.33 Q229.822 1475.44 231.627 1479.01 Q233.456 1482.55 237.067 1482.55 Q240.701 1482.55 242.507 1479.01 Q244.336 1475.44 244.336 1468.33 Q244.336 1461.2 242.507 1457.66 Q240.701 1454.1 237.067 1454.1 M237.067 1450.39 Q242.877 1450.39 245.933 1455 Q249.012 1459.58 249.012 1468.33 Q249.012 1477.06 245.933 1481.67 Q242.877 1486.25 237.067 1486.25 Q231.257 1486.25 228.178 1481.67 Q225.123 1477.06 225.123 1468.33 Q225.123 1459.58 228.178 1455 Q231.257 1450.39 237.067 1450.39 Z\" fill=\"#000000\" fill-rule=\"nonzero\" fill-opacity=\"1\" /><path clip-path=\"url(#clip640)\" d=\"M740.966 1481.64 L748.605 1481.64 L748.605 1455.28 L740.295 1456.95 L740.295 1452.69 L748.558 1451.02 L753.234 1451.02 L753.234 1481.64 L760.873 1481.64 L760.873 1485.58 L740.966 1485.58 L740.966 1481.64 Z\" fill=\"#000000\" fill-rule=\"nonzero\" fill-opacity=\"1\" /><path clip-path=\"url(#clip640)\" d=\"M1258.75 1481.64 L1275.07 1481.64 L1275.07 1485.58 L1253.13 1485.58 L1253.13 1481.64 Q1255.79 1478.89 1260.37 1474.26 Q1264.98 1469.61 1266.16 1468.27 Q1268.41 1465.74 1269.29 1464.01 Q1270.19 1462.25 1270.19 1460.56 Q1270.19 1457.8 1268.24 1456.07 Q1266.32 1454.33 1263.22 1454.33 Q1261.02 1454.33 1258.57 1455.09 Q1256.14 1455.86 1253.36 1457.41 L1253.36 1452.69 Q1256.18 1451.55 1258.64 1450.97 Q1261.09 1450.39 1263.13 1450.39 Q1268.5 1450.39 1271.69 1453.08 Q1274.89 1455.77 1274.89 1460.26 Q1274.89 1462.39 1274.08 1464.31 Q1273.29 1466.2 1271.18 1468.8 Q1270.61 1469.47 1267.5 1472.69 Q1264.4 1475.88 1258.75 1481.64 Z\" fill=\"#000000\" fill-rule=\"nonzero\" fill-opacity=\"1\" /><path clip-path=\"url(#clip640)\" d=\"M1781.86 1466.95 Q1785.22 1467.66 1787.1 1469.93 Q1788.99 1472.2 1788.99 1475.53 Q1788.99 1480.65 1785.48 1483.45 Q1781.96 1486.25 1775.48 1486.25 Q1773.3 1486.25 1770.99 1485.81 Q1768.69 1485.39 1766.24 1484.54 L1766.24 1480.02 Q1768.18 1481.16 1770.5 1481.74 Q1772.81 1482.32 1775.34 1482.32 Q1779.74 1482.32 1782.03 1480.58 Q1784.34 1478.84 1784.34 1475.53 Q1784.34 1472.48 1782.19 1470.77 Q1780.06 1469.03 1776.24 1469.03 L1772.21 1469.03 L1772.21 1465.19 L1776.43 1465.19 Q1779.87 1465.19 1781.7 1463.82 Q1783.53 1462.43 1783.53 1459.84 Q1783.53 1457.18 1781.63 1455.77 Q1779.76 1454.33 1776.24 1454.33 Q1774.32 1454.33 1772.12 1454.75 Q1769.92 1455.16 1767.28 1456.04 L1767.28 1451.88 Q1769.94 1451.14 1772.26 1450.77 Q1774.6 1450.39 1776.66 1450.39 Q1781.98 1450.39 1785.08 1452.83 Q1788.18 1455.23 1788.18 1459.35 Q1788.18 1462.22 1786.54 1464.21 Q1784.9 1466.18 1781.86 1466.95 Z\" fill=\"#000000\" fill-rule=\"nonzero\" fill-opacity=\"1\" /><path clip-path=\"url(#clip640)\" d=\"M2294.14 1455.09 L2282.34 1473.54 L2294.14 1473.54 L2294.14 1455.09 M2292.92 1451.02 L2298.8 1451.02 L2298.8 1473.54 L2303.73 1473.54 L2303.73 1477.43 L2298.8 1477.43 L2298.8 1485.58 L2294.14 1485.58 L2294.14 1477.43 L2278.54 1477.43 L2278.54 1472.92 L2292.92 1451.02 Z\" fill=\"#000000\" fill-rule=\"nonzero\" fill-opacity=\"1\" /><path clip-path=\"url(#clip640)\" d=\"M1171.07 1520.52 L1177.97 1520.52 L1189.78 1538.19 L1201.65 1520.52 L1208.56 1520.52 L1193.28 1543.34 L1209.58 1568.04 L1202.67 1568.04 L1189.3 1547.83 L1175.84 1568.04 L1168.9 1568.04 L1185.87 1542.68 L1171.07 1520.52 Z\" fill=\"#000000\" fill-rule=\"nonzero\" fill-opacity=\"1\" /><path clip-path=\"url(#clip640)\" d=\"M1211.55 1547.58 L1228.71 1547.58 L1228.71 1552.8 L1211.55 1552.8 L1211.55 1547.58 Z\" fill=\"#000000\" fill-rule=\"nonzero\" fill-opacity=\"1\" /><path clip-path=\"url(#clip640)\" d=\"M1254.23 1550.12 Q1247.14 1550.12 1244.4 1551.75 Q1241.66 1553.37 1241.66 1557.29 Q1241.66 1560.4 1243.7 1562.25 Q1245.77 1564.07 1249.3 1564.07 Q1254.17 1564.07 1257.1 1560.63 Q1260.06 1557.16 1260.06 1551.43 L1260.06 1550.12 L1254.23 1550.12 M1265.91 1547.71 L1265.91 1568.04 L1260.06 1568.04 L1260.06 1562.63 Q1258.05 1565.88 1255.06 1567.44 Q1252.07 1568.97 1247.74 1568.97 Q1242.27 1568.97 1239.02 1565.91 Q1235.8 1562.82 1235.8 1557.67 Q1235.8 1551.65 1239.82 1548.6 Q1243.86 1545.54 1251.85 1545.54 L1260.06 1545.54 L1260.06 1544.97 Q1260.06 1540.93 1257.38 1538.73 Q1254.74 1536.5 1249.94 1536.5 Q1246.88 1536.5 1243.98 1537.23 Q1241.09 1537.97 1238.41 1539.43 L1238.41 1534.02 Q1241.63 1532.78 1244.65 1532.17 Q1247.68 1531.54 1250.54 1531.54 Q1258.28 1531.54 1262.1 1535.55 Q1265.91 1539.56 1265.91 1547.71 Z\" fill=\"#000000\" fill-rule=\"nonzero\" fill-opacity=\"1\" /><path clip-path=\"url(#clip640)\" d=\"M1307.61 1532.4 L1294.72 1549.74 L1308.28 1568.04 L1301.37 1568.04 L1291 1554.04 L1280.62 1568.04 L1273.71 1568.04 L1287.56 1549.39 L1274.89 1532.4 L1281.8 1532.4 L1291.25 1545.1 L1300.7 1532.4 L1307.61 1532.4 Z\" fill=\"#000000\" fill-rule=\"nonzero\" fill-opacity=\"1\" /><path clip-path=\"url(#clip640)\" d=\"M1316.55 1532.4 L1322.41 1532.4 L1322.41 1568.04 L1316.55 1568.04 L1316.55 1532.4 M1316.55 1518.52 L1322.41 1518.52 L1322.41 1525.93 L1316.55 1525.93 L1316.55 1518.52 Z\" fill=\"#000000\" fill-rule=\"nonzero\" fill-opacity=\"1\" /><path clip-path=\"url(#clip640)\" d=\"M1357.39 1533.45 L1357.39 1538.98 Q1354.91 1537.71 1352.23 1537.07 Q1349.56 1536.44 1346.7 1536.44 Q1342.34 1536.44 1340.14 1537.77 Q1337.97 1539.11 1337.97 1541.79 Q1337.97 1543.82 1339.53 1545 Q1341.09 1546.15 1345.8 1547.2 L1347.81 1547.64 Q1354.05 1548.98 1356.66 1551.43 Q1359.3 1553.85 1359.3 1558.21 Q1359.3 1563.17 1355.35 1566.07 Q1351.44 1568.97 1344.56 1568.97 Q1341.7 1568.97 1338.58 1568.39 Q1335.49 1567.85 1332.05 1566.74 L1332.05 1560.69 Q1335.3 1562.38 1338.45 1563.24 Q1341.6 1564.07 1344.69 1564.07 Q1348.83 1564.07 1351.06 1562.66 Q1353.28 1561.23 1353.28 1558.65 Q1353.28 1556.27 1351.66 1554.99 Q1350.07 1553.72 1344.63 1552.54 L1342.59 1552.07 Q1337.15 1550.92 1334.73 1548.56 Q1332.31 1546.18 1332.31 1542.04 Q1332.31 1537.01 1335.87 1534.27 Q1339.44 1531.54 1346 1531.54 Q1349.24 1531.54 1352.11 1532.01 Q1354.97 1532.49 1357.39 1533.45 Z\" fill=\"#000000\" fill-rule=\"nonzero\" fill-opacity=\"1\" /><polyline clip-path=\"url(#clip642)\" style=\"stroke:#000000; stroke-linecap:round; stroke-linejoin:round; stroke-width:2; stroke-opacity:0.1; fill:none\" points=\"175.445,1384.24 2352.76,1384.24 \"/>\n",
       "<polyline clip-path=\"url(#clip642)\" style=\"stroke:#000000; stroke-linecap:round; stroke-linejoin:round; stroke-width:2; stroke-opacity:0.1; fill:none\" points=\"175.445,1059.73 2352.76,1059.73 \"/>\n",
       "<polyline clip-path=\"url(#clip642)\" style=\"stroke:#000000; stroke-linecap:round; stroke-linejoin:round; stroke-width:2; stroke-opacity:0.1; fill:none\" points=\"175.445,735.212 2352.76,735.212 \"/>\n",
       "<polyline clip-path=\"url(#clip642)\" style=\"stroke:#000000; stroke-linecap:round; stroke-linejoin:round; stroke-width:2; stroke-opacity:0.1; fill:none\" points=\"175.445,410.699 2352.76,410.699 \"/>\n",
       "<polyline clip-path=\"url(#clip642)\" style=\"stroke:#000000; stroke-linecap:round; stroke-linejoin:round; stroke-width:2; stroke-opacity:0.1; fill:none\" points=\"175.445,86.1857 2352.76,86.1857 \"/>\n",
       "<polyline clip-path=\"url(#clip640)\" style=\"stroke:#000000; stroke-linecap:round; stroke-linejoin:round; stroke-width:4; stroke-opacity:1; fill:none\" points=\"175.445,1423.18 175.445,47.2441 \"/>\n",
       "<polyline clip-path=\"url(#clip640)\" style=\"stroke:#000000; stroke-linecap:round; stroke-linejoin:round; stroke-width:4; stroke-opacity:1; fill:none\" points=\"175.445,1384.24 194.343,1384.24 \"/>\n",
       "<polyline clip-path=\"url(#clip640)\" style=\"stroke:#000000; stroke-linecap:round; stroke-linejoin:round; stroke-width:4; stroke-opacity:1; fill:none\" points=\"175.445,1059.73 194.343,1059.73 \"/>\n",
       "<polyline clip-path=\"url(#clip640)\" style=\"stroke:#000000; stroke-linecap:round; stroke-linejoin:round; stroke-width:4; stroke-opacity:1; fill:none\" points=\"175.445,735.212 194.343,735.212 \"/>\n",
       "<polyline clip-path=\"url(#clip640)\" style=\"stroke:#000000; stroke-linecap:round; stroke-linejoin:round; stroke-width:4; stroke-opacity:1; fill:none\" points=\"175.445,410.699 194.343,410.699 \"/>\n",
       "<polyline clip-path=\"url(#clip640)\" style=\"stroke:#000000; stroke-linecap:round; stroke-linejoin:round; stroke-width:4; stroke-opacity:1; fill:none\" points=\"175.445,86.1857 194.343,86.1857 \"/>\n",
       "<path clip-path=\"url(#clip640)\" d=\"M127.501 1370.04 Q123.89 1370.04 122.061 1373.6 Q120.255 1377.14 120.255 1384.27 Q120.255 1391.38 122.061 1394.94 Q123.89 1398.49 127.501 1398.49 Q131.135 1398.49 132.941 1394.94 Q134.769 1391.38 134.769 1384.27 Q134.769 1377.14 132.941 1373.6 Q131.135 1370.04 127.501 1370.04 M127.501 1366.33 Q133.311 1366.33 136.367 1370.94 Q139.445 1375.52 139.445 1384.27 Q139.445 1393 136.367 1397.61 Q133.311 1402.19 127.501 1402.19 Q121.691 1402.19 118.612 1397.61 Q115.556 1393 115.556 1384.27 Q115.556 1375.52 118.612 1370.94 Q121.691 1366.33 127.501 1366.33 Z\" fill=\"#000000\" fill-rule=\"nonzero\" fill-opacity=\"1\" /><path clip-path=\"url(#clip640)\" d=\"M119.538 1073.07 L127.177 1073.07 L127.177 1046.7 L118.867 1048.37 L118.867 1044.11 L127.13 1042.45 L131.806 1042.45 L131.806 1073.07 L139.445 1073.07 L139.445 1077.01 L119.538 1077.01 L119.538 1073.07 Z\" fill=\"#000000\" fill-rule=\"nonzero\" fill-opacity=\"1\" /><path clip-path=\"url(#clip640)\" d=\"M123.126 748.557 L139.445 748.557 L139.445 752.492 L117.501 752.492 L117.501 748.557 Q120.163 745.802 124.746 741.173 Q129.353 736.52 130.533 735.177 Q132.779 732.654 133.658 730.918 Q134.561 729.159 134.561 727.469 Q134.561 724.714 132.617 722.978 Q130.695 721.242 127.593 721.242 Q125.394 721.242 122.941 722.006 Q120.51 722.77 117.732 724.321 L117.732 719.599 Q120.556 718.464 123.01 717.886 Q125.464 717.307 127.501 717.307 Q132.871 717.307 136.066 719.992 Q139.26 722.677 139.26 727.168 Q139.26 729.298 138.45 731.219 Q137.663 733.117 135.556 735.71 Q134.978 736.381 131.876 739.599 Q128.774 742.793 123.126 748.557 Z\" fill=\"#000000\" fill-rule=\"nonzero\" fill-opacity=\"1\" /><path clip-path=\"url(#clip640)\" d=\"M132.316 409.345 Q135.672 410.062 137.547 412.331 Q139.445 414.599 139.445 417.933 Q139.445 423.048 135.927 425.849 Q132.408 428.65 125.927 428.65 Q123.751 428.65 121.436 428.21 Q119.144 427.794 116.691 426.937 L116.691 422.423 Q118.635 423.558 120.95 424.136 Q123.265 424.715 125.788 424.715 Q130.186 424.715 132.478 422.979 Q134.792 421.243 134.792 417.933 Q134.792 414.877 132.64 413.164 Q130.51 411.428 126.691 411.428 L122.663 411.428 L122.663 407.585 L126.876 407.585 Q130.325 407.585 132.154 406.22 Q133.982 404.831 133.982 402.238 Q133.982 399.576 132.084 398.164 Q130.209 396.729 126.691 396.729 Q124.769 396.729 122.57 397.146 Q120.371 397.562 117.732 398.442 L117.732 394.275 Q120.394 393.535 122.709 393.164 Q125.047 392.794 127.107 392.794 Q132.431 392.794 135.533 395.224 Q138.635 397.632 138.635 401.752 Q138.635 404.622 136.992 406.613 Q135.348 408.581 132.316 409.345 Z\" fill=\"#000000\" fill-rule=\"nonzero\" fill-opacity=\"1\" /><path clip-path=\"url(#clip640)\" d=\"M129.862 72.9797 L118.056 91.4287 L129.862 91.4287 L129.862 72.9797 M128.635 68.9057 L134.515 68.9057 L134.515 91.4287 L139.445 91.4287 L139.445 95.3176 L134.515 95.3176 L134.515 103.466 L129.862 103.466 L129.862 95.3176 L114.26 95.3176 L114.26 90.8037 L128.635 68.9057 Z\" fill=\"#000000\" fill-rule=\"nonzero\" fill-opacity=\"1\" /><path clip-path=\"url(#clip640)\" d=\"M16.4842 826.783 L16.4842 819.876 L36.0269 806.699 L16.4842 793.617 L16.4842 786.711 L41.3741 803.516 L64.0042 803.516 L64.0042 809.977 L41.3741 809.977 L16.4842 826.783 Z\" fill=\"#000000\" fill-rule=\"nonzero\" fill-opacity=\"1\" /><path clip-path=\"url(#clip640)\" d=\"M43.5384 791.389 L43.5384 774.234 L48.7583 774.234 L48.7583 791.389 L43.5384 791.389 Z\" fill=\"#000000\" fill-rule=\"nonzero\" fill-opacity=\"1\" /><path clip-path=\"url(#clip640)\" d=\"M46.0847 748.707 Q46.0847 755.805 47.7079 758.542 Q49.3312 761.28 53.2461 761.28 Q56.3653 761.28 58.2114 759.243 Q60.0256 757.174 60.0256 753.641 Q60.0256 748.771 56.5881 745.843 Q53.1188 742.883 47.3897 742.883 L46.0847 742.883 L46.0847 748.707 M43.6657 737.026 L64.0042 737.026 L64.0042 742.883 L58.5933 742.883 Q61.8398 744.888 63.3994 747.88 Q64.9272 750.872 64.9272 755.2 Q64.9272 760.675 61.8716 763.921 Q58.7843 767.136 53.6281 767.136 Q47.6125 767.136 44.5569 763.126 Q41.5014 759.083 41.5014 751.094 L41.5014 742.883 L40.9285 742.883 Q36.8862 742.883 34.6901 745.556 Q32.4621 748.198 32.4621 753.004 Q32.4621 756.06 33.1941 758.956 Q33.9262 761.852 35.3903 764.526 L29.9795 764.526 Q28.7381 761.311 28.1334 758.288 Q27.4968 755.264 27.4968 752.399 Q27.4968 744.665 31.5072 740.846 Q35.5176 737.026 43.6657 737.026 Z\" fill=\"#000000\" fill-rule=\"nonzero\" fill-opacity=\"1\" /><path clip-path=\"url(#clip640)\" d=\"M28.3562 695.331 L45.7028 708.221 L64.0042 694.662 L64.0042 701.569 L49.9996 711.945 L64.0042 722.321 L64.0042 729.228 L45.3526 715.383 L28.3562 728.051 L28.3562 721.144 L41.0558 711.691 L28.3562 702.238 L28.3562 695.331 Z\" fill=\"#000000\" fill-rule=\"nonzero\" fill-opacity=\"1\" /><path clip-path=\"url(#clip640)\" d=\"M28.3562 686.387 L28.3562 680.531 L64.0042 680.531 L64.0042 686.387 L28.3562 686.387 M14.479 686.387 L14.479 680.531 L21.895 680.531 L21.895 686.387 L14.479 686.387 Z\" fill=\"#000000\" fill-rule=\"nonzero\" fill-opacity=\"1\" /><path clip-path=\"url(#clip640)\" d=\"M29.4065 645.551 L34.9447 645.551 Q33.6716 648.034 33.035 650.707 Q32.3984 653.381 32.3984 656.245 Q32.3984 660.606 33.7352 662.802 Q35.072 664.966 37.7456 664.966 Q39.7826 664.966 40.9603 663.407 Q42.1061 661.847 43.1565 657.137 L43.6021 655.131 Q44.9389 648.893 47.3897 646.283 Q49.8086 643.641 54.1691 643.641 Q59.1344 643.641 62.0308 647.588 Q64.9272 651.503 64.9272 658.378 Q64.9272 661.242 64.3543 664.362 Q63.8132 667.449 62.6992 670.887 L56.6518 670.887 Q58.3387 667.64 59.198 664.489 Q60.0256 661.338 60.0256 658.251 Q60.0256 654.113 58.6251 651.885 Q57.1929 649.657 54.6147 649.657 Q52.2276 649.657 50.9545 651.28 Q49.6813 652.872 48.5037 658.314 L48.0262 660.351 Q46.8804 665.794 44.5251 668.213 Q42.138 670.632 38.0002 670.632 Q32.9713 670.632 30.2341 667.067 Q27.4968 663.502 27.4968 656.946 Q27.4968 653.699 27.9743 650.835 Q28.4517 647.97 29.4065 645.551 Z\" fill=\"#000000\" fill-rule=\"nonzero\" fill-opacity=\"1\" /><circle clip-path=\"url(#clip642)\" cx=\"237.067\" cy=\"410.699\" r=\"14.4\" fill=\"#0000ff\" fill-rule=\"evenodd\" fill-opacity=\"1\" stroke=\"#000000\" stroke-opacity=\"1\" stroke-width=\"3.2\"/>\n",
       "<circle clip-path=\"url(#clip642)\" cx=\"750.584\" cy=\"1059.73\" r=\"14.4\" fill=\"#0000ff\" fill-rule=\"evenodd\" fill-opacity=\"1\" stroke=\"#000000\" stroke-opacity=\"1\" stroke-width=\"3.2\"/>\n",
       "<circle clip-path=\"url(#clip642)\" cx=\"1264.1\" cy=\"735.212\" r=\"14.4\" fill=\"#0000ff\" fill-rule=\"evenodd\" fill-opacity=\"1\" stroke=\"#000000\" stroke-opacity=\"1\" stroke-width=\"3.2\"/>\n",
       "<circle clip-path=\"url(#clip642)\" cx=\"2291.13\" cy=\"86.1857\" r=\"14.4\" fill=\"#0000ff\" fill-rule=\"evenodd\" fill-opacity=\"1\" stroke=\"#000000\" stroke-opacity=\"1\" stroke-width=\"3.2\"/>\n",
       "<circle clip-path=\"url(#clip642)\" cx=\"237.067\" cy=\"1384.24\" r=\"14.4\" fill=\"#0000ff\" fill-rule=\"evenodd\" fill-opacity=\"1\" stroke=\"#000000\" stroke-opacity=\"1\" stroke-width=\"3.2\"/>\n",
       "<circle clip-path=\"url(#clip642)\" cx=\"750.584\" cy=\"735.212\" r=\"14.4\" fill=\"#0000ff\" fill-rule=\"evenodd\" fill-opacity=\"1\" stroke=\"#000000\" stroke-opacity=\"1\" stroke-width=\"3.2\"/>\n",
       "<circle clip-path=\"url(#clip642)\" cx=\"1777.62\" cy=\"1059.73\" r=\"14.4\" fill=\"#0000ff\" fill-rule=\"evenodd\" fill-opacity=\"1\" stroke=\"#000000\" stroke-opacity=\"1\" stroke-width=\"3.2\"/>\n",
       "<circle clip-path=\"url(#clip642)\" cx=\"1777.62\" cy=\"410.699\" r=\"14.4\" fill=\"#0000ff\" fill-rule=\"evenodd\" fill-opacity=\"1\" stroke=\"#000000\" stroke-opacity=\"1\" stroke-width=\"3.2\"/>\n",
       "<polyline clip-path=\"url(#clip642)\" style=\"stroke:#ff0000; stroke-linecap:round; stroke-linejoin:round; stroke-width:4; stroke-opacity:1; fill:none\" points=\"237.067,1384.24 1777.62,1059.73 2291.13,86.1857 237.067,410.699 237.067,1384.24 \"/>\n",
       "<path clip-path=\"url(#clip640)\" d=\"M248.022 248.629 L742.349 248.629 L742.349 93.1086 L248.022 93.1086  Z\" fill=\"#ffffff\" fill-rule=\"evenodd\" fill-opacity=\"1\"/>\n",
       "<polyline clip-path=\"url(#clip640)\" style=\"stroke:#000000; stroke-linecap:round; stroke-linejoin:round; stroke-width:4; stroke-opacity:1; fill:none\" points=\"248.022,248.629 742.349,248.629 742.349,93.1086 248.022,93.1086 248.022,248.629 \"/>\n",
       "<circle clip-path=\"url(#clip640)\" cx=\"344.792\" cy=\"144.949\" r=\"20.48\" fill=\"#0000ff\" fill-rule=\"evenodd\" fill-opacity=\"1\" stroke=\"#000000\" stroke-opacity=\"1\" stroke-width=\"4.55111\"/>\n",
       "<path clip-path=\"url(#clip640)\" d=\"M446.237 131.511 L446.237 144.497 L452.116 144.497 Q455.38 144.497 457.163 142.807 Q458.945 141.118 458.945 137.993 Q458.945 134.891 457.163 133.201 Q455.38 131.511 452.116 131.511 L446.237 131.511 M441.561 127.669 L452.116 127.669 Q457.927 127.669 460.89 130.307 Q463.876 132.923 463.876 137.993 Q463.876 143.108 460.89 145.724 Q457.927 148.34 452.116 148.34 L446.237 148.34 L446.237 162.229 L441.561 162.229 L441.561 127.669 Z\" fill=\"#000000\" fill-rule=\"nonzero\" fill-opacity=\"1\" /><path clip-path=\"url(#clip640)\" d=\"M478.32 139.289 Q474.894 139.289 472.903 141.974 Q470.913 144.636 470.913 149.289 Q470.913 153.942 472.88 156.627 Q474.871 159.289 478.32 159.289 Q481.723 159.289 483.714 156.604 Q485.704 153.918 485.704 149.289 Q485.704 144.682 483.714 141.997 Q481.723 139.289 478.32 139.289 M478.32 135.678 Q483.876 135.678 487.047 139.289 Q490.218 142.9 490.218 149.289 Q490.218 155.655 487.047 159.289 Q483.876 162.9 478.32 162.9 Q472.741 162.9 469.57 159.289 Q466.422 155.655 466.422 149.289 Q466.422 142.9 469.57 139.289 Q472.741 135.678 478.32 135.678 Z\" fill=\"#000000\" fill-rule=\"nonzero\" fill-opacity=\"1\" /><path clip-path=\"url(#clip640)\" d=\"M497.278 136.303 L501.537 136.303 L501.537 162.229 L497.278 162.229 L497.278 136.303 M497.278 126.21 L501.537 126.21 L501.537 131.604 L497.278 131.604 L497.278 126.21 Z\" fill=\"#000000\" fill-rule=\"nonzero\" fill-opacity=\"1\" /><path clip-path=\"url(#clip640)\" d=\"M532 146.581 L532 162.229 L527.741 162.229 L527.741 146.719 Q527.741 143.039 526.306 141.21 Q524.871 139.382 522 139.382 Q518.551 139.382 516.561 141.581 Q514.57 143.78 514.57 147.576 L514.57 162.229 L510.287 162.229 L510.287 136.303 L514.57 136.303 L514.57 140.331 Q516.098 137.993 518.158 136.835 Q520.241 135.678 522.949 135.678 Q527.417 135.678 529.709 138.456 Q532 141.21 532 146.581 Z\" fill=\"#000000\" fill-rule=\"nonzero\" fill-opacity=\"1\" /><path clip-path=\"url(#clip640)\" d=\"M544.709 128.942 L544.709 136.303 L553.482 136.303 L553.482 139.613 L544.709 139.613 L544.709 153.687 Q544.709 156.858 545.565 157.761 Q546.445 158.664 549.107 158.664 L553.482 158.664 L553.482 162.229 L549.107 162.229 Q544.176 162.229 542.301 160.4 Q540.426 158.548 540.426 153.687 L540.426 139.613 L537.301 139.613 L537.301 136.303 L540.426 136.303 L540.426 128.942 L544.709 128.942 Z\" fill=\"#000000\" fill-rule=\"nonzero\" fill-opacity=\"1\" /><path clip-path=\"url(#clip640)\" d=\"M575.611 137.067 L575.611 141.094 Q573.806 140.169 571.861 139.706 Q569.917 139.243 567.833 139.243 Q564.662 139.243 563.065 140.215 Q561.491 141.187 561.491 143.131 Q561.491 144.613 562.625 145.469 Q563.759 146.303 567.185 147.067 L568.644 147.391 Q573.181 148.363 575.079 150.145 Q577 151.905 577 155.076 Q577 158.687 574.13 160.793 Q571.282 162.9 566.283 162.9 Q564.199 162.9 561.931 162.483 Q559.685 162.09 557.185 161.28 L557.185 156.881 Q559.546 158.108 561.838 158.733 Q564.13 159.335 566.375 159.335 Q569.384 159.335 571.005 158.317 Q572.625 157.275 572.625 155.4 Q572.625 153.664 571.445 152.738 Q570.287 151.812 566.329 150.956 L564.847 150.608 Q560.889 149.775 559.13 148.062 Q557.371 146.326 557.371 143.317 Q557.371 139.659 559.963 137.669 Q562.556 135.678 567.324 135.678 Q569.685 135.678 571.769 136.025 Q573.852 136.372 575.611 137.067 Z\" fill=\"#000000\" fill-rule=\"nonzero\" fill-opacity=\"1\" /><polyline clip-path=\"url(#clip640)\" style=\"stroke:#ff0000; stroke-linecap:round; stroke-linejoin:round; stroke-width:4; stroke-opacity:1; fill:none\" points=\"272.215,196.789 417.369,196.789 \"/>\n",
       "<path clip-path=\"url(#clip640)\" d=\"M469.431 182.171 L469.431 187.101 Q467.07 184.902 464.385 183.814 Q461.723 182.726 458.714 182.726 Q452.788 182.726 449.64 186.36 Q446.491 189.972 446.491 196.823 Q446.491 203.652 449.64 207.286 Q452.788 210.897 458.714 210.897 Q461.723 210.897 464.385 209.809 Q467.07 208.721 469.431 206.522 L469.431 211.407 Q466.977 213.073 464.223 213.907 Q461.491 214.74 458.436 214.74 Q450.589 214.74 446.075 209.948 Q441.561 205.133 441.561 196.823 Q441.561 188.49 446.075 183.698 Q450.589 178.884 458.436 178.884 Q461.538 178.884 464.269 179.717 Q467.024 180.527 469.431 182.171 Z\" fill=\"#000000\" fill-rule=\"nonzero\" fill-opacity=\"1\" /><path clip-path=\"url(#clip640)\" d=\"M486.514 191.129 Q483.089 191.129 481.098 193.814 Q479.107 196.476 479.107 201.129 Q479.107 205.782 481.075 208.467 Q483.065 211.129 486.514 211.129 Q489.917 211.129 491.908 208.444 Q493.899 205.758 493.899 201.129 Q493.899 196.522 491.908 193.837 Q489.917 191.129 486.514 191.129 M486.514 187.518 Q492.07 187.518 495.241 191.129 Q498.413 194.74 498.413 201.129 Q498.413 207.495 495.241 211.129 Q492.07 214.74 486.514 214.74 Q480.936 214.74 477.764 211.129 Q474.616 207.495 474.616 201.129 Q474.616 194.74 477.764 191.129 Q480.936 187.518 486.514 187.518 Z\" fill=\"#000000\" fill-rule=\"nonzero\" fill-opacity=\"1\" /><path clip-path=\"url(#clip640)\" d=\"M527.023 198.421 L527.023 214.069 L522.764 214.069 L522.764 198.559 Q522.764 194.879 521.329 193.05 Q519.894 191.222 517.024 191.222 Q513.574 191.222 511.584 193.421 Q509.593 195.62 509.593 199.416 L509.593 214.069 L505.311 214.069 L505.311 188.143 L509.593 188.143 L509.593 192.171 Q511.121 189.833 513.181 188.675 Q515.264 187.518 517.973 187.518 Q522.44 187.518 524.732 190.296 Q527.023 193.05 527.023 198.421 Z\" fill=\"#000000\" fill-rule=\"nonzero\" fill-opacity=\"1\" /><path clip-path=\"url(#clip640)\" d=\"M532.463 188.143 L536.977 188.143 L545.079 209.902 L553.181 188.143 L557.695 188.143 L547.972 214.069 L542.185 214.069 L532.463 188.143 Z\" fill=\"#000000\" fill-rule=\"nonzero\" fill-opacity=\"1\" /><path clip-path=\"url(#clip640)\" d=\"M585.75 200.041 L585.75 202.124 L566.167 202.124 Q566.445 206.522 568.806 208.837 Q571.19 211.129 575.426 211.129 Q577.88 211.129 580.171 210.527 Q582.486 209.925 584.755 208.721 L584.755 212.749 Q582.463 213.721 580.056 214.231 Q577.648 214.74 575.171 214.74 Q568.968 214.74 565.333 211.129 Q561.722 207.518 561.722 201.36 Q561.722 194.995 565.148 191.268 Q568.597 187.518 574.431 187.518 Q579.662 187.518 582.694 190.897 Q585.75 194.254 585.75 200.041 M581.491 198.791 Q581.444 195.296 579.523 193.212 Q577.625 191.129 574.477 191.129 Q570.912 191.129 568.759 193.143 Q566.63 195.157 566.306 198.814 L581.491 198.791 Z\" fill=\"#000000\" fill-rule=\"nonzero\" fill-opacity=\"1\" /><path clip-path=\"url(#clip640)\" d=\"M613.458 188.143 L604.083 200.759 L613.944 214.069 L608.921 214.069 L601.375 203.883 L593.829 214.069 L588.806 214.069 L598.875 200.504 L589.662 188.143 L594.685 188.143 L601.56 197.379 L608.435 188.143 L613.458 188.143 Z\" fill=\"#000000\" fill-rule=\"nonzero\" fill-opacity=\"1\" /><path clip-path=\"url(#clip640)\" d=\"M635.217 179.509 L639.893 179.509 L639.893 193.675 L656.884 193.675 L656.884 179.509 L661.56 179.509 L661.56 214.069 L656.884 214.069 L656.884 197.61 L639.893 197.61 L639.893 214.069 L635.217 214.069 L635.217 179.509 Z\" fill=\"#000000\" fill-rule=\"nonzero\" fill-opacity=\"1\" /><path clip-path=\"url(#clip640)\" d=\"M670.24 203.837 L670.24 188.143 L674.5 188.143 L674.5 203.675 Q674.5 207.356 675.935 209.208 Q677.37 211.036 680.24 211.036 Q683.689 211.036 685.68 208.837 Q687.694 206.638 687.694 202.842 L687.694 188.143 L691.953 188.143 L691.953 214.069 L687.694 214.069 L687.694 210.087 Q686.143 212.448 684.083 213.606 Q682.046 214.74 679.337 214.74 Q674.87 214.74 672.555 211.962 Q670.24 209.184 670.24 203.837 M680.958 187.518 L680.958 187.518 Z\" fill=\"#000000\" fill-rule=\"nonzero\" fill-opacity=\"1\" /><path clip-path=\"url(#clip640)\" d=\"M700.726 178.05 L704.985 178.05 L704.985 214.069 L700.726 214.069 L700.726 178.05 Z\" fill=\"#000000\" fill-rule=\"nonzero\" fill-opacity=\"1\" /><path clip-path=\"url(#clip640)\" d=\"M713.897 178.05 L718.157 178.05 L718.157 214.069 L713.897 214.069 L713.897 178.05 Z\" fill=\"#000000\" fill-rule=\"nonzero\" fill-opacity=\"1\" /></svg>\n"
      ]
     },
     "execution_count": 27,
     "metadata": {},
     "output_type": "execute_result"
    }
   ],
   "source": [
    "convex_hull_points = convexHull(input_points)\n",
    "if !isempty(convex_hull_points)\n",
    "    convex_hull_x = [p.x for p in convex_hull_points]\n",
    "    convex_hull_y = [p.y for p in convex_hull_points]\n",
    "    push!(convex_hull_x, convex_hull_x[1])\n",
    "    push!(convex_hull_y, convex_hull_y[1])\n",
    "    plot!(convex_hull_x, convex_hull_y, label=\"Convex Hull\", color=:red)\n",
    "end\n",
    "\n",
    "xlabel!(\"X-axis\")\n",
    "ylabel!(\"Y-axis\")"
   ]
  }
 ],
 "metadata": {
  "kernelspec": {
   "display_name": "Julia 1.10.0",
   "language": "julia",
   "name": "julia-1.10"
  },
  "language_info": {
   "file_extension": ".jl",
   "mimetype": "application/julia",
   "name": "julia",
   "version": "1.10.0"
  }
 },
 "nbformat": 4,
 "nbformat_minor": 5
}
